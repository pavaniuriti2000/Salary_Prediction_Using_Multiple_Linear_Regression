{
 "cells": [
  {
   "cell_type": "markdown",
   "metadata": {},
   "source": [
    "# salary prediction\n"
   ]
  },
  {
   "cell_type": "markdown",
   "metadata": {},
   "source": [
    "problem:given a dataset which captures gross salary from july 2013 through jun,2014 and includes only those employees who were employedmin june,2014. predict salaries for the employee in blatimore"
   ]
  },
  {
   "cell_type": "raw",
   "metadata": {},
   "source": [
    "# outline\n",
    "1.import dataset\n",
    "2.data cleaning and data preparation\n",
    "3.exploratory data analysis\n",
    "4.feature engineering\n",
    "5.train test split\n",
    "6.model building\n",
    "model evaluation"
   ]
  },
  {
   "cell_type": "code",
   "execution_count": 1,
   "metadata": {},
   "outputs": [],
   "source": [
    "#import libraries for analysis\n",
    "import pandas as pd\n",
    "import numpy as np\n",
    "#import libraries for visualization\n",
    "import matplotlib.pyplot as plt\n",
    "import seaborn as sns\n",
    "\n",
    "#import libaries for train test split\n",
    "from sklearn.model_selection import train_test_split\n",
    "\n",
    "#import library for scaling(standardization)\n",
    "from sklearn.preprocessing import StandardScaler\n",
    "\n",
    "#Import library for model building\n",
    "from sklearn.linear_model import LinearRegression\n",
    "\n",
    "#supress warnings\n",
    "import warnings\n",
    "warnings.filterwarnings('ignore')"
   ]
  },
  {
   "cell_type": "markdown",
   "metadata": {},
   "source": [
    "#  importing dataset\n",
    "\n",
    "  "
   ]
  },
  {
   "cell_type": "markdown",
   "metadata": {},
   "source": [
    "the data set in the csv format and can be imported using method available in padas library"
   ]
  },
  {
   "cell_type": "code",
   "execution_count": 2,
   "metadata": {},
   "outputs": [],
   "source": [
    "salary = pd.read_csv('trainfile.csv')"
   ]
  },
  {
   "cell_type": "code",
   "execution_count": 3,
   "metadata": {},
   "outputs": [
    {
     "data": {
      "text/html": [
       "<div>\n",
       "<style scoped>\n",
       "    .dataframe tbody tr th:only-of-type {\n",
       "        vertical-align: middle;\n",
       "    }\n",
       "\n",
       "    .dataframe tbody tr th {\n",
       "        vertical-align: top;\n",
       "    }\n",
       "\n",
       "    .dataframe thead th {\n",
       "        text-align: right;\n",
       "    }\n",
       "</style>\n",
       "<table border=\"1\" class=\"dataframe\">\n",
       "  <thead>\n",
       "    <tr style=\"text-align: right;\">\n",
       "      <th></th>\n",
       "      <th>Name</th>\n",
       "      <th>JobTitle</th>\n",
       "      <th>AgencyID</th>\n",
       "      <th>Agency</th>\n",
       "      <th>HireDate</th>\n",
       "      <th>AnnualSalary</th>\n",
       "      <th>GrossPay</th>\n",
       "    </tr>\n",
       "  </thead>\n",
       "  <tbody>\n",
       "    <tr>\n",
       "      <th>0</th>\n",
       "      <td>Aaron,Keontae E</td>\n",
       "      <td>AIDE BLUE CHIP</td>\n",
       "      <td>W02200</td>\n",
       "      <td>Youth Summer</td>\n",
       "      <td>06/10/2013</td>\n",
       "      <td>$11310.00</td>\n",
       "      <td>$873.63</td>\n",
       "    </tr>\n",
       "    <tr>\n",
       "      <th>1</th>\n",
       "      <td>Aaron,Patricia G</td>\n",
       "      <td>Facilities/Office Services II</td>\n",
       "      <td>A03031</td>\n",
       "      <td>OED-Employment Dev</td>\n",
       "      <td>10/24/1979</td>\n",
       "      <td>$53428.00</td>\n",
       "      <td>$52868.38</td>\n",
       "    </tr>\n",
       "    <tr>\n",
       "      <th>2</th>\n",
       "      <td>Aaron,Petra L</td>\n",
       "      <td>ASSISTANT STATE'S ATTORNEY</td>\n",
       "      <td>A29005</td>\n",
       "      <td>States Attorneys Office</td>\n",
       "      <td>09/25/2006</td>\n",
       "      <td>$68300.00</td>\n",
       "      <td>$67439.19</td>\n",
       "    </tr>\n",
       "    <tr>\n",
       "      <th>3</th>\n",
       "      <td>Abaineh,Yohannes T</td>\n",
       "      <td>EPIDEMIOLOGIST</td>\n",
       "      <td>A65026</td>\n",
       "      <td>HLTH-Health Department</td>\n",
       "      <td>07/23/2009</td>\n",
       "      <td>$62000.00</td>\n",
       "      <td>$58654.74</td>\n",
       "    </tr>\n",
       "    <tr>\n",
       "      <th>4</th>\n",
       "      <td>Abbene,Anthony M</td>\n",
       "      <td>POLICE OFFICER TRAINEE</td>\n",
       "      <td>A99416</td>\n",
       "      <td>Police Department</td>\n",
       "      <td>07/24/2013</td>\n",
       "      <td>$43999.00</td>\n",
       "      <td>$39686.95</td>\n",
       "    </tr>\n",
       "    <tr>\n",
       "      <th>...</th>\n",
       "      <td>...</td>\n",
       "      <td>...</td>\n",
       "      <td>...</td>\n",
       "      <td>...</td>\n",
       "      <td>...</td>\n",
       "      <td>...</td>\n",
       "      <td>...</td>\n",
       "    </tr>\n",
       "    <tr>\n",
       "      <th>18976</th>\n",
       "      <td>Zotamou,Jean Marie D</td>\n",
       "      <td>AIDE BLUE CHIP</td>\n",
       "      <td>W02235</td>\n",
       "      <td>Youth Summer</td>\n",
       "      <td>05/21/2014</td>\n",
       "      <td>$11310.00</td>\n",
       "      <td>NaN</td>\n",
       "    </tr>\n",
       "    <tr>\n",
       "      <th>18977</th>\n",
       "      <td>Zotamou,Pivot D</td>\n",
       "      <td>AIDE BLUE CHIP</td>\n",
       "      <td>W02629</td>\n",
       "      <td>Youth Summer</td>\n",
       "      <td>05/21/2014</td>\n",
       "      <td>$11310.00</td>\n",
       "      <td>NaN</td>\n",
       "    </tr>\n",
       "    <tr>\n",
       "      <th>18978</th>\n",
       "      <td>Zovistoski,Zachary D</td>\n",
       "      <td>POLICE OFFICER TRAINEE</td>\n",
       "      <td>A99416</td>\n",
       "      <td>Police Department</td>\n",
       "      <td>12/17/2013</td>\n",
       "      <td>$43999.00</td>\n",
       "      <td>$21070.03</td>\n",
       "    </tr>\n",
       "    <tr>\n",
       "      <th>18979</th>\n",
       "      <td>Zubyk,Stanislav T</td>\n",
       "      <td>POLICE OFFICER</td>\n",
       "      <td>A99262</td>\n",
       "      <td>Police Department</td>\n",
       "      <td>01/23/2013</td>\n",
       "      <td>$44104.00</td>\n",
       "      <td>$48608.12</td>\n",
       "    </tr>\n",
       "    <tr>\n",
       "      <th>18980</th>\n",
       "      <td>Zukowski,Charles J</td>\n",
       "      <td>Waste Water Tech Supv I Pump</td>\n",
       "      <td>A50206</td>\n",
       "      <td>DPW-Water &amp; Waste Water</td>\n",
       "      <td>10/15/1979</td>\n",
       "      <td>$53568.00</td>\n",
       "      <td>$52164.32</td>\n",
       "    </tr>\n",
       "  </tbody>\n",
       "</table>\n",
       "<p>18981 rows × 7 columns</p>\n",
       "</div>"
      ],
      "text/plain": [
       "                       Name                       JobTitle AgencyID  \\\n",
       "0           Aaron,Keontae E                 AIDE BLUE CHIP   W02200   \n",
       "1          Aaron,Patricia G  Facilities/Office Services II   A03031   \n",
       "2             Aaron,Petra L     ASSISTANT STATE'S ATTORNEY   A29005   \n",
       "3        Abaineh,Yohannes T                 EPIDEMIOLOGIST   A65026   \n",
       "4          Abbene,Anthony M         POLICE OFFICER TRAINEE   A99416   \n",
       "...                     ...                            ...      ...   \n",
       "18976  Zotamou,Jean Marie D                 AIDE BLUE CHIP   W02235   \n",
       "18977       Zotamou,Pivot D                 AIDE BLUE CHIP   W02629   \n",
       "18978  Zovistoski,Zachary D         POLICE OFFICER TRAINEE   A99416   \n",
       "18979     Zubyk,Stanislav T                 POLICE OFFICER   A99262   \n",
       "18980    Zukowski,Charles J   Waste Water Tech Supv I Pump   A50206   \n",
       "\n",
       "                         Agency    HireDate AnnualSalary   GrossPay  \n",
       "0                Youth Summer    06/10/2013    $11310.00    $873.63  \n",
       "1           OED-Employment Dev   10/24/1979    $53428.00  $52868.38  \n",
       "2      States Attorneys Office   09/25/2006    $68300.00  $67439.19  \n",
       "3       HLTH-Health Department   07/23/2009    $62000.00  $58654.74  \n",
       "4            Police Department   07/24/2013    $43999.00  $39686.95  \n",
       "...                         ...         ...          ...        ...  \n",
       "18976            Youth Summer    05/21/2014    $11310.00        NaN  \n",
       "18977             Youth Summer   05/21/2014    $11310.00        NaN  \n",
       "18978        Police Department   12/17/2013    $43999.00  $21070.03  \n",
       "18979        Police Department   01/23/2013    $44104.00  $48608.12  \n",
       "18980  DPW-Water & Waste Water   10/15/1979    $53568.00  $52164.32  \n",
       "\n",
       "[18981 rows x 7 columns]"
      ]
     },
     "execution_count": 3,
     "metadata": {},
     "output_type": "execute_result"
    }
   ],
   "source": [
    "salary\n"
   ]
  },
  {
   "cell_type": "markdown",
   "metadata": {},
   "source": [
    "# data cleaning and preparation"
   ]
  },
  {
   "cell_type": "code",
   "execution_count": 4,
   "metadata": {},
   "outputs": [
    {
     "name": "stdout",
     "output_type": "stream",
     "text": [
      "<class 'pandas.core.frame.DataFrame'>\n",
      "RangeIndex: 18981 entries, 0 to 18980\n",
      "Data columns (total 7 columns):\n",
      " #   Column        Non-Null Count  Dtype \n",
      "---  ------        --------------  ----- \n",
      " 0    Name         18981 non-null  object\n",
      " 1   JobTitle      18981 non-null  object\n",
      " 2   AgencyID      18981 non-null  object\n",
      " 3   Agency        18981 non-null  object\n",
      " 4   HireDate      18911 non-null  object\n",
      " 5   AnnualSalary  18981 non-null  object\n",
      " 6   GrossPay      15758 non-null  object\n",
      "dtypes: object(7)\n",
      "memory usage: 1.0+ MB\n"
     ]
    }
   ],
   "source": [
    "salary.info()"
   ]
  },
  {
   "cell_type": "raw",
   "metadata": {},
   "source": [
    "there are 18981 rows in the dataset\n",
    "there are 7 columns in  the dataset\n",
    "all columns are of type 'object'"
   ]
  },
  {
   "cell_type": "raw",
   "metadata": {},
   "source": [
    "make a copy of original data\n",
    "It's always a better idea to keep a copy of original data\n",
    "it's always a good practice to work on copy of datasets"
   ]
  },
  {
   "cell_type": "code",
   "execution_count": 5,
   "metadata": {},
   "outputs": [],
   "source": [
    "salary_cpy =salary.copy()"
   ]
  },
  {
   "cell_type": "code",
   "execution_count": 6,
   "metadata": {},
   "outputs": [
    {
     "data": {
      "text/plain": [
       "Index([' Name', 'JobTitle', 'AgencyID', 'Agency', 'HireDate', 'AnnualSalary',\n",
       "       'GrossPay'],\n",
       "      dtype='object')"
      ]
     },
     "execution_count": 6,
     "metadata": {},
     "output_type": "execute_result"
    }
   ],
   "source": [
    "salary_cpy.columns"
   ]
  },
  {
   "cell_type": "code",
   "execution_count": 7,
   "metadata": {},
   "outputs": [],
   "source": [
    "#since Name ha leading space we need to remove it.\n",
    "salary_cpy.columns=salary.columns.str.strip()"
   ]
  },
  {
   "cell_type": "code",
   "execution_count": 8,
   "metadata": {},
   "outputs": [
    {
     "data": {
      "text/plain": [
       "Index(['Name', 'JobTitle', 'AgencyID', 'Agency', 'HireDate', 'AnnualSalary',\n",
       "       'GrossPay'],\n",
       "      dtype='object')"
      ]
     },
     "execution_count": 8,
     "metadata": {},
     "output_type": "execute_result"
    }
   ],
   "source": [
    "salary_cpy.columns"
   ]
  },
  {
   "cell_type": "code",
   "execution_count": 9,
   "metadata": {},
   "outputs": [
    {
     "data": {
      "text/plain": [
       "Name               0\n",
       "JobTitle           0\n",
       "AgencyID           0\n",
       "Agency             0\n",
       "HireDate          70\n",
       "AnnualSalary       0\n",
       "GrossPay        3223\n",
       "dtype: int64"
      ]
     },
     "execution_count": 9,
     "metadata": {},
     "output_type": "execute_result"
    }
   ],
   "source": [
    "#check for null values\n",
    "salary_cpy.isnull().sum()"
   ]
  },
  {
   "cell_type": "code",
   "execution_count": 10,
   "metadata": {},
   "outputs": [],
   "source": [
    "#drop hiredate column\n",
    "salary_cpy = salary_cpy.dropna(subset=['HireDate'])"
   ]
  },
  {
   "cell_type": "code",
   "execution_count": 11,
   "metadata": {},
   "outputs": [
    {
     "data": {
      "text/plain": [
       "Name               0\n",
       "JobTitle           0\n",
       "AgencyID           0\n",
       "Agency             0\n",
       "HireDate           0\n",
       "AnnualSalary       0\n",
       "GrossPay        3223\n",
       "dtype: int64"
      ]
     },
     "execution_count": 11,
     "metadata": {},
     "output_type": "execute_result"
    }
   ],
   "source": [
    "salary_cpy.isnull().sum()"
   ]
  },
  {
   "cell_type": "code",
   "execution_count": 12,
   "metadata": {},
   "outputs": [
    {
     "data": {
      "text/html": [
       "<div>\n",
       "<style scoped>\n",
       "    .dataframe tbody tr th:only-of-type {\n",
       "        vertical-align: middle;\n",
       "    }\n",
       "\n",
       "    .dataframe tbody tr th {\n",
       "        vertical-align: top;\n",
       "    }\n",
       "\n",
       "    .dataframe thead th {\n",
       "        text-align: right;\n",
       "    }\n",
       "</style>\n",
       "<table border=\"1\" class=\"dataframe\">\n",
       "  <thead>\n",
       "    <tr style=\"text-align: right;\">\n",
       "      <th></th>\n",
       "      <th>Name</th>\n",
       "      <th>JobTitle</th>\n",
       "      <th>AgencyID</th>\n",
       "      <th>Agency</th>\n",
       "      <th>HireDate</th>\n",
       "      <th>AnnualSalary</th>\n",
       "      <th>GrossPay</th>\n",
       "    </tr>\n",
       "  </thead>\n",
       "  <tbody>\n",
       "    <tr>\n",
       "      <th>0</th>\n",
       "      <td>Aaron,Keontae E</td>\n",
       "      <td>AIDE BLUE CHIP</td>\n",
       "      <td>W02200</td>\n",
       "      <td>Youth Summer</td>\n",
       "      <td>06/10/2013</td>\n",
       "      <td>$11310.00</td>\n",
       "      <td>$873.63</td>\n",
       "    </tr>\n",
       "    <tr>\n",
       "      <th>1</th>\n",
       "      <td>Aaron,Patricia G</td>\n",
       "      <td>Facilities/Office Services II</td>\n",
       "      <td>A03031</td>\n",
       "      <td>OED-Employment Dev</td>\n",
       "      <td>10/24/1979</td>\n",
       "      <td>$53428.00</td>\n",
       "      <td>$52868.38</td>\n",
       "    </tr>\n",
       "    <tr>\n",
       "      <th>2</th>\n",
       "      <td>Aaron,Petra L</td>\n",
       "      <td>ASSISTANT STATE'S ATTORNEY</td>\n",
       "      <td>A29005</td>\n",
       "      <td>States Attorneys Office</td>\n",
       "      <td>09/25/2006</td>\n",
       "      <td>$68300.00</td>\n",
       "      <td>$67439.19</td>\n",
       "    </tr>\n",
       "    <tr>\n",
       "      <th>3</th>\n",
       "      <td>Abaineh,Yohannes T</td>\n",
       "      <td>EPIDEMIOLOGIST</td>\n",
       "      <td>A65026</td>\n",
       "      <td>HLTH-Health Department</td>\n",
       "      <td>07/23/2009</td>\n",
       "      <td>$62000.00</td>\n",
       "      <td>$58654.74</td>\n",
       "    </tr>\n",
       "    <tr>\n",
       "      <th>4</th>\n",
       "      <td>Abbene,Anthony M</td>\n",
       "      <td>POLICE OFFICER TRAINEE</td>\n",
       "      <td>A99416</td>\n",
       "      <td>Police Department</td>\n",
       "      <td>07/24/2013</td>\n",
       "      <td>$43999.00</td>\n",
       "      <td>$39686.95</td>\n",
       "    </tr>\n",
       "  </tbody>\n",
       "</table>\n",
       "</div>"
      ],
      "text/plain": [
       "                 Name                       JobTitle AgencyID  \\\n",
       "0     Aaron,Keontae E                 AIDE BLUE CHIP   W02200   \n",
       "1    Aaron,Patricia G  Facilities/Office Services II   A03031   \n",
       "2       Aaron,Petra L     ASSISTANT STATE'S ATTORNEY   A29005   \n",
       "3  Abaineh,Yohannes T                 EPIDEMIOLOGIST   A65026   \n",
       "4    Abbene,Anthony M         POLICE OFFICER TRAINEE   A99416   \n",
       "\n",
       "                     Agency    HireDate AnnualSalary   GrossPay  \n",
       "0            Youth Summer    06/10/2013    $11310.00    $873.63  \n",
       "1       OED-Employment Dev   10/24/1979    $53428.00  $52868.38  \n",
       "2  States Attorneys Office   09/25/2006    $68300.00  $67439.19  \n",
       "3   HLTH-Health Department   07/23/2009    $62000.00  $58654.74  \n",
       "4        Police Department   07/24/2013    $43999.00  $39686.95  "
      ]
     },
     "execution_count": 12,
     "metadata": {},
     "output_type": "execute_result"
    }
   ],
   "source": [
    "salary_cpy.head()"
   ]
  },
  {
   "cell_type": "code",
   "execution_count": 13,
   "metadata": {},
   "outputs": [],
   "source": [
    "#gross pay is dependent on the anula salary\n",
    "#both the things are interrelated only.\n",
    "#so, we can delete Grosspay column and it contains many null values as well.\n",
    "#lets drop gross pay column\n",
    "salary_cpy =salary_cpy.drop('GrossPay',axis=1)"
   ]
  },
  {
   "cell_type": "code",
   "execution_count": 14,
   "metadata": {},
   "outputs": [
    {
     "data": {
      "text/plain": [
       "Index(['Name', 'JobTitle', 'AgencyID', 'Agency', 'HireDate', 'AnnualSalary'], dtype='object')"
      ]
     },
     "execution_count": 14,
     "metadata": {},
     "output_type": "execute_result"
    }
   ],
   "source": [
    "salary_cpy.columns"
   ]
  },
  {
   "cell_type": "code",
   "execution_count": 15,
   "metadata": {},
   "outputs": [
    {
     "data": {
      "text/plain": [
       "P04001    316\n",
       "C90786    276\n",
       "W02629    193\n",
       "P04002    191\n",
       "A99416    166\n",
       "         ... \n",
       "W02503      1\n",
       "W02596      1\n",
       "A64005      1\n",
       "A65113      1\n",
       "W02695      1\n",
       "Name: AgencyID, Length: 1177, dtype: int64"
      ]
     },
     "execution_count": 15,
     "metadata": {},
     "output_type": "execute_result"
    }
   ],
   "source": [
    "salary_cpy.AgencyID.value_counts()"
   ]
  },
  {
   "cell_type": "markdown",
   "metadata": {},
   "source": [
    "there are 1177 agencies in blatimore.AS per general understanding Agency id represents agency so we sholud hav eth same number of agencies as well."
   ]
  },
  {
   "cell_type": "code",
   "execution_count": 16,
   "metadata": {},
   "outputs": [
    {
     "data": {
      "text/plain": [
       "Youth Summer                4323\n",
       "Police Department           3141\n",
       "Fire Department             1576\n",
       "DPW-Water & Waste Water     1491\n",
       "HLTH-Health Department       833\n",
       "                            ... \n",
       "Council Services               6\n",
       "M-R Labor Commissioner         6\n",
       "Legislative Reference          5\n",
       "Special City Services          4\n",
       "M-R Cable & Comm               4\n",
       "Name: Agency, Length: 65, dtype: int64"
      ]
     },
     "execution_count": 16,
     "metadata": {},
     "output_type": "execute_result"
    }
   ],
   "source": [
    "#value_count for agency\n",
    "salary_cpy.Agency.value_counts()"
   ]
  },
  {
   "cell_type": "code",
   "execution_count": 17,
   "metadata": {},
   "outputs": [
    {
     "data": {
      "text/plain": [
       "AIDE BLUE CHIP                 4817\n",
       "POLICE OFFICER                 1866\n",
       "LABORER (Hourly)                597\n",
       "EMT Firefighter Suppression     358\n",
       "CROSSING GUARD                  337\n",
       "                               ... \n",
       "DIR EARLY INTERVENTION SVCS       1\n",
       "Marine Pilot ALS                  1\n",
       "PC COORDINATOR LIBRARY            1\n",
       "Database Specialist               1\n",
       "ANIMAL CONTROL INVESTIGATOR       1\n",
       "Name: JobTitle, Length: 1073, dtype: int64"
      ]
     },
     "execution_count": 17,
     "metadata": {},
     "output_type": "execute_result"
    }
   ],
   "source": [
    "#one agency must be having multiple agency ids\n",
    "salary_cpy.JobTitle.value_counts()"
   ]
  },
  {
   "cell_type": "code",
   "execution_count": 18,
   "metadata": {},
   "outputs": [
    {
     "data": {
      "text/plain": [
       "05/21/2014    1478\n",
       "06/10/2013     696\n",
       "06/12/2012     541\n",
       "06/07/2011     368\n",
       "05/29/2014     347\n",
       "              ... \n",
       "12/13/1976       1\n",
       "11/14/1985       1\n",
       "05/01/2012       1\n",
       "10/18/2011       1\n",
       "10/29/1984       1\n",
       "Name: HireDate, Length: 4737, dtype: int64"
      ]
     },
     "execution_count": 18,
     "metadata": {},
     "output_type": "execute_result"
    }
   ],
   "source": [
    "#value counts on HireDate\n",
    "salary_cpy.HireDate.value_counts()"
   ]
  },
  {
   "cell_type": "code",
   "execution_count": 19,
   "metadata": {},
   "outputs": [],
   "source": [
    "#Removing $ from anual salary and converting it into float\n",
    "salary_cpy['AnnualSalary']=salary_cpy['AnnualSalary'].apply(lambda x :(float)(str(x)[1:]))"
   ]
  },
  {
   "cell_type": "code",
   "execution_count": 20,
   "metadata": {},
   "outputs": [
    {
     "data": {
      "text/plain": [
       "11310.0    4811\n",
       "20800.0     325\n",
       "29245.0     196\n",
       "43999.0     169\n",
       "44773.0     162\n",
       "           ... \n",
       "35509.0       1\n",
       "25945.0       1\n",
       "51889.0       1\n",
       "39600.0       1\n",
       "86400.0       1\n",
       "Name: AnnualSalary, Length: 1590, dtype: int64"
      ]
     },
     "execution_count": 20,
     "metadata": {},
     "output_type": "execute_result"
    }
   ],
   "source": [
    "salary_cpy['AnnualSalary'].value_counts()"
   ]
  },
  {
   "cell_type": "code",
   "execution_count": 21,
   "metadata": {},
   "outputs": [],
   "source": [
    "salary_cpy['HireDay']=salary_cpy['HireDate'].apply(lambda x: (int)(str(x[3:5])))"
   ]
  },
  {
   "cell_type": "code",
   "execution_count": 22,
   "metadata": {},
   "outputs": [
    {
     "data": {
      "text/plain": [
       "0        10\n",
       "1        24\n",
       "2        25\n",
       "3        23\n",
       "4        24\n",
       "         ..\n",
       "18976    21\n",
       "18977    21\n",
       "18978    17\n",
       "18979    23\n",
       "18980    15\n",
       "Name: HireDay, Length: 18911, dtype: int64"
      ]
     },
     "execution_count": 22,
     "metadata": {},
     "output_type": "execute_result"
    }
   ],
   "source": [
    "salary_cpy['HireDay']"
   ]
  },
  {
   "cell_type": "code",
   "execution_count": 23,
   "metadata": {},
   "outputs": [],
   "source": [
    "salary_cpy['HireMonth']=salary_cpy['HireDate'].apply(lambda x:(int)(str(x[0:2])))"
   ]
  },
  {
   "cell_type": "code",
   "execution_count": 24,
   "metadata": {},
   "outputs": [
    {
     "data": {
      "text/plain": [
       "0         6\n",
       "1        10\n",
       "2         9\n",
       "3         7\n",
       "4         7\n",
       "         ..\n",
       "18976     5\n",
       "18977     5\n",
       "18978    12\n",
       "18979     1\n",
       "18980    10\n",
       "Name: HireMonth, Length: 18911, dtype: int64"
      ]
     },
     "execution_count": 24,
     "metadata": {},
     "output_type": "execute_result"
    }
   ],
   "source": [
    "salary_cpy['HireMonth']"
   ]
  },
  {
   "cell_type": "code",
   "execution_count": 25,
   "metadata": {},
   "outputs": [
    {
     "data": {
      "text/plain": [
       "0        06/10/2013\n",
       "1        10/24/1979\n",
       "2        09/25/2006\n",
       "3        07/23/2009\n",
       "4        07/24/2013\n",
       "            ...    \n",
       "18976    05/21/2014\n",
       "18977    05/21/2014\n",
       "18978    12/17/2013\n",
       "18979    01/23/2013\n",
       "18980    10/15/1979\n",
       "Name: HireDate, Length: 18911, dtype: object"
      ]
     },
     "execution_count": 25,
     "metadata": {},
     "output_type": "execute_result"
    }
   ],
   "source": [
    "salary_cpy.HireDate\n"
   ]
  },
  {
   "cell_type": "code",
   "execution_count": 26,
   "metadata": {},
   "outputs": [
    {
     "data": {
      "text/plain": [
       "0        2013\n",
       "1        1979\n",
       "2        2006\n",
       "3        2009\n",
       "4        2013\n",
       "         ... \n",
       "18976    2014\n",
       "18977    2014\n",
       "18978    2013\n",
       "18979    2013\n",
       "18980    1979\n",
       "Name: HireYear, Length: 18911, dtype: int64"
      ]
     },
     "execution_count": 26,
     "metadata": {},
     "output_type": "execute_result"
    }
   ],
   "source": [
    "salary_cpy['HireYear']=salary_cpy['HireDate'].apply(lambda x:(int)(str(x[6:10])))\n",
    "salary_cpy['HireYear']"
   ]
  },
  {
   "cell_type": "code",
   "execution_count": 27,
   "metadata": {},
   "outputs": [
    {
     "data": {
      "text/html": [
       "<div>\n",
       "<style scoped>\n",
       "    .dataframe tbody tr th:only-of-type {\n",
       "        vertical-align: middle;\n",
       "    }\n",
       "\n",
       "    .dataframe tbody tr th {\n",
       "        vertical-align: top;\n",
       "    }\n",
       "\n",
       "    .dataframe thead th {\n",
       "        text-align: right;\n",
       "    }\n",
       "</style>\n",
       "<table border=\"1\" class=\"dataframe\">\n",
       "  <thead>\n",
       "    <tr style=\"text-align: right;\">\n",
       "      <th></th>\n",
       "      <th>Name</th>\n",
       "      <th>JobTitle</th>\n",
       "      <th>AgencyID</th>\n",
       "      <th>Agency</th>\n",
       "      <th>HireDate</th>\n",
       "      <th>AnnualSalary</th>\n",
       "      <th>HireDay</th>\n",
       "      <th>HireMonth</th>\n",
       "      <th>HireYear</th>\n",
       "    </tr>\n",
       "  </thead>\n",
       "  <tbody>\n",
       "    <tr>\n",
       "      <th>0</th>\n",
       "      <td>Aaron,Keontae E</td>\n",
       "      <td>AIDE BLUE CHIP</td>\n",
       "      <td>W02200</td>\n",
       "      <td>Youth Summer</td>\n",
       "      <td>06/10/2013</td>\n",
       "      <td>11310.0</td>\n",
       "      <td>10</td>\n",
       "      <td>6</td>\n",
       "      <td>2013</td>\n",
       "    </tr>\n",
       "    <tr>\n",
       "      <th>1</th>\n",
       "      <td>Aaron,Patricia G</td>\n",
       "      <td>Facilities/Office Services II</td>\n",
       "      <td>A03031</td>\n",
       "      <td>OED-Employment Dev</td>\n",
       "      <td>10/24/1979</td>\n",
       "      <td>53428.0</td>\n",
       "      <td>24</td>\n",
       "      <td>10</td>\n",
       "      <td>1979</td>\n",
       "    </tr>\n",
       "    <tr>\n",
       "      <th>2</th>\n",
       "      <td>Aaron,Petra L</td>\n",
       "      <td>ASSISTANT STATE'S ATTORNEY</td>\n",
       "      <td>A29005</td>\n",
       "      <td>States Attorneys Office</td>\n",
       "      <td>09/25/2006</td>\n",
       "      <td>68300.0</td>\n",
       "      <td>25</td>\n",
       "      <td>9</td>\n",
       "      <td>2006</td>\n",
       "    </tr>\n",
       "    <tr>\n",
       "      <th>3</th>\n",
       "      <td>Abaineh,Yohannes T</td>\n",
       "      <td>EPIDEMIOLOGIST</td>\n",
       "      <td>A65026</td>\n",
       "      <td>HLTH-Health Department</td>\n",
       "      <td>07/23/2009</td>\n",
       "      <td>62000.0</td>\n",
       "      <td>23</td>\n",
       "      <td>7</td>\n",
       "      <td>2009</td>\n",
       "    </tr>\n",
       "    <tr>\n",
       "      <th>4</th>\n",
       "      <td>Abbene,Anthony M</td>\n",
       "      <td>POLICE OFFICER TRAINEE</td>\n",
       "      <td>A99416</td>\n",
       "      <td>Police Department</td>\n",
       "      <td>07/24/2013</td>\n",
       "      <td>43999.0</td>\n",
       "      <td>24</td>\n",
       "      <td>7</td>\n",
       "      <td>2013</td>\n",
       "    </tr>\n",
       "    <tr>\n",
       "      <th>...</th>\n",
       "      <td>...</td>\n",
       "      <td>...</td>\n",
       "      <td>...</td>\n",
       "      <td>...</td>\n",
       "      <td>...</td>\n",
       "      <td>...</td>\n",
       "      <td>...</td>\n",
       "      <td>...</td>\n",
       "      <td>...</td>\n",
       "    </tr>\n",
       "    <tr>\n",
       "      <th>18976</th>\n",
       "      <td>Zotamou,Jean Marie D</td>\n",
       "      <td>AIDE BLUE CHIP</td>\n",
       "      <td>W02235</td>\n",
       "      <td>Youth Summer</td>\n",
       "      <td>05/21/2014</td>\n",
       "      <td>11310.0</td>\n",
       "      <td>21</td>\n",
       "      <td>5</td>\n",
       "      <td>2014</td>\n",
       "    </tr>\n",
       "    <tr>\n",
       "      <th>18977</th>\n",
       "      <td>Zotamou,Pivot D</td>\n",
       "      <td>AIDE BLUE CHIP</td>\n",
       "      <td>W02629</td>\n",
       "      <td>Youth Summer</td>\n",
       "      <td>05/21/2014</td>\n",
       "      <td>11310.0</td>\n",
       "      <td>21</td>\n",
       "      <td>5</td>\n",
       "      <td>2014</td>\n",
       "    </tr>\n",
       "    <tr>\n",
       "      <th>18978</th>\n",
       "      <td>Zovistoski,Zachary D</td>\n",
       "      <td>POLICE OFFICER TRAINEE</td>\n",
       "      <td>A99416</td>\n",
       "      <td>Police Department</td>\n",
       "      <td>12/17/2013</td>\n",
       "      <td>43999.0</td>\n",
       "      <td>17</td>\n",
       "      <td>12</td>\n",
       "      <td>2013</td>\n",
       "    </tr>\n",
       "    <tr>\n",
       "      <th>18979</th>\n",
       "      <td>Zubyk,Stanislav T</td>\n",
       "      <td>POLICE OFFICER</td>\n",
       "      <td>A99262</td>\n",
       "      <td>Police Department</td>\n",
       "      <td>01/23/2013</td>\n",
       "      <td>44104.0</td>\n",
       "      <td>23</td>\n",
       "      <td>1</td>\n",
       "      <td>2013</td>\n",
       "    </tr>\n",
       "    <tr>\n",
       "      <th>18980</th>\n",
       "      <td>Zukowski,Charles J</td>\n",
       "      <td>Waste Water Tech Supv I Pump</td>\n",
       "      <td>A50206</td>\n",
       "      <td>DPW-Water &amp; Waste Water</td>\n",
       "      <td>10/15/1979</td>\n",
       "      <td>53568.0</td>\n",
       "      <td>15</td>\n",
       "      <td>10</td>\n",
       "      <td>1979</td>\n",
       "    </tr>\n",
       "  </tbody>\n",
       "</table>\n",
       "<p>18911 rows × 9 columns</p>\n",
       "</div>"
      ],
      "text/plain": [
       "                       Name                       JobTitle AgencyID  \\\n",
       "0           Aaron,Keontae E                 AIDE BLUE CHIP   W02200   \n",
       "1          Aaron,Patricia G  Facilities/Office Services II   A03031   \n",
       "2             Aaron,Petra L     ASSISTANT STATE'S ATTORNEY   A29005   \n",
       "3        Abaineh,Yohannes T                 EPIDEMIOLOGIST   A65026   \n",
       "4          Abbene,Anthony M         POLICE OFFICER TRAINEE   A99416   \n",
       "...                     ...                            ...      ...   \n",
       "18976  Zotamou,Jean Marie D                 AIDE BLUE CHIP   W02235   \n",
       "18977       Zotamou,Pivot D                 AIDE BLUE CHIP   W02629   \n",
       "18978  Zovistoski,Zachary D         POLICE OFFICER TRAINEE   A99416   \n",
       "18979     Zubyk,Stanislav T                 POLICE OFFICER   A99262   \n",
       "18980    Zukowski,Charles J   Waste Water Tech Supv I Pump   A50206   \n",
       "\n",
       "                         Agency    HireDate  AnnualSalary  HireDay  HireMonth  \\\n",
       "0                Youth Summer    06/10/2013       11310.0       10          6   \n",
       "1           OED-Employment Dev   10/24/1979       53428.0       24         10   \n",
       "2      States Attorneys Office   09/25/2006       68300.0       25          9   \n",
       "3       HLTH-Health Department   07/23/2009       62000.0       23          7   \n",
       "4            Police Department   07/24/2013       43999.0       24          7   \n",
       "...                         ...         ...           ...      ...        ...   \n",
       "18976            Youth Summer    05/21/2014       11310.0       21          5   \n",
       "18977             Youth Summer   05/21/2014       11310.0       21          5   \n",
       "18978        Police Department   12/17/2013       43999.0       17         12   \n",
       "18979        Police Department   01/23/2013       44104.0       23          1   \n",
       "18980  DPW-Water & Waste Water   10/15/1979       53568.0       15         10   \n",
       "\n",
       "       HireYear  \n",
       "0          2013  \n",
       "1          1979  \n",
       "2          2006  \n",
       "3          2009  \n",
       "4          2013  \n",
       "...         ...  \n",
       "18976      2014  \n",
       "18977      2014  \n",
       "18978      2013  \n",
       "18979      2013  \n",
       "18980      1979  \n",
       "\n",
       "[18911 rows x 9 columns]"
      ]
     },
     "execution_count": 27,
     "metadata": {},
     "output_type": "execute_result"
    }
   ],
   "source": [
    "salary_cpy"
   ]
  },
  {
   "cell_type": "code",
   "execution_count": 28,
   "metadata": {},
   "outputs": [],
   "source": [
    "#triming all catagorical columns to make sure that there are no spaces or double quotes in the words"
   ]
  },
  {
   "cell_type": "code",
   "execution_count": 29,
   "metadata": {},
   "outputs": [],
   "source": [
    "salary_cpy['JobTitle']=salary_cpy['JobTitle'].apply(lambda x : (str(x).strip().replace(\"  \",\" \")))"
   ]
  },
  {
   "cell_type": "code",
   "execution_count": 30,
   "metadata": {},
   "outputs": [
    {
     "data": {
      "text/plain": [
       "0                       AIDE BLUE CHIP\n",
       "1        Facilities/Office Services II\n",
       "2           ASSISTANT STATE'S ATTORNEY\n",
       "3                       EPIDEMIOLOGIST\n",
       "4               POLICE OFFICER TRAINEE\n",
       "                     ...              \n",
       "18976                   AIDE BLUE CHIP\n",
       "18977                   AIDE BLUE CHIP\n",
       "18978           POLICE OFFICER TRAINEE\n",
       "18979                   POLICE OFFICER\n",
       "18980     Waste Water Tech Supv I Pump\n",
       "Name: JobTitle, Length: 18911, dtype: object"
      ]
     },
     "execution_count": 30,
     "metadata": {},
     "output_type": "execute_result"
    }
   ],
   "source": [
    "salary_cpy['JobTitle']"
   ]
  },
  {
   "cell_type": "code",
   "execution_count": 31,
   "metadata": {},
   "outputs": [],
   "source": [
    "salary_cpy['Agency']=salary_cpy['Agency'].apply(lambda x : (str(x).strip().replace(\"  \",\" \")))\n",
    "salary_cpy['AgencyID']=salary_cpy['AgencyID'].apply(lambda x : (str(x).strip().replace(\"  \",\" \")))"
   ]
  },
  {
   "cell_type": "code",
   "execution_count": 32,
   "metadata": {},
   "outputs": [
    {
     "data": {
      "text/html": [
       "<div>\n",
       "<style scoped>\n",
       "    .dataframe tbody tr th:only-of-type {\n",
       "        vertical-align: middle;\n",
       "    }\n",
       "\n",
       "    .dataframe tbody tr th {\n",
       "        vertical-align: top;\n",
       "    }\n",
       "\n",
       "    .dataframe thead th {\n",
       "        text-align: right;\n",
       "    }\n",
       "</style>\n",
       "<table border=\"1\" class=\"dataframe\">\n",
       "  <thead>\n",
       "    <tr style=\"text-align: right;\">\n",
       "      <th></th>\n",
       "      <th>Name</th>\n",
       "      <th>JobTitle</th>\n",
       "      <th>AgencyID</th>\n",
       "      <th>Agency</th>\n",
       "      <th>HireDate</th>\n",
       "      <th>AnnualSalary</th>\n",
       "      <th>HireDay</th>\n",
       "      <th>HireMonth</th>\n",
       "      <th>HireYear</th>\n",
       "    </tr>\n",
       "  </thead>\n",
       "  <tbody>\n",
       "    <tr>\n",
       "      <th>0</th>\n",
       "      <td>Aaron,Keontae E</td>\n",
       "      <td>AIDE BLUE CHIP</td>\n",
       "      <td>W02200</td>\n",
       "      <td>Youth Summer</td>\n",
       "      <td>06/10/2013</td>\n",
       "      <td>11310.0</td>\n",
       "      <td>10</td>\n",
       "      <td>6</td>\n",
       "      <td>2013</td>\n",
       "    </tr>\n",
       "    <tr>\n",
       "      <th>1</th>\n",
       "      <td>Aaron,Patricia G</td>\n",
       "      <td>Facilities/Office Services II</td>\n",
       "      <td>A03031</td>\n",
       "      <td>OED-Employment Dev</td>\n",
       "      <td>10/24/1979</td>\n",
       "      <td>53428.0</td>\n",
       "      <td>24</td>\n",
       "      <td>10</td>\n",
       "      <td>1979</td>\n",
       "    </tr>\n",
       "    <tr>\n",
       "      <th>2</th>\n",
       "      <td>Aaron,Petra L</td>\n",
       "      <td>ASSISTANT STATE'S ATTORNEY</td>\n",
       "      <td>A29005</td>\n",
       "      <td>States Attorneys Office</td>\n",
       "      <td>09/25/2006</td>\n",
       "      <td>68300.0</td>\n",
       "      <td>25</td>\n",
       "      <td>9</td>\n",
       "      <td>2006</td>\n",
       "    </tr>\n",
       "    <tr>\n",
       "      <th>3</th>\n",
       "      <td>Abaineh,Yohannes T</td>\n",
       "      <td>EPIDEMIOLOGIST</td>\n",
       "      <td>A65026</td>\n",
       "      <td>HLTH-Health Department</td>\n",
       "      <td>07/23/2009</td>\n",
       "      <td>62000.0</td>\n",
       "      <td>23</td>\n",
       "      <td>7</td>\n",
       "      <td>2009</td>\n",
       "    </tr>\n",
       "    <tr>\n",
       "      <th>4</th>\n",
       "      <td>Abbene,Anthony M</td>\n",
       "      <td>POLICE OFFICER TRAINEE</td>\n",
       "      <td>A99416</td>\n",
       "      <td>Police Department</td>\n",
       "      <td>07/24/2013</td>\n",
       "      <td>43999.0</td>\n",
       "      <td>24</td>\n",
       "      <td>7</td>\n",
       "      <td>2013</td>\n",
       "    </tr>\n",
       "    <tr>\n",
       "      <th>...</th>\n",
       "      <td>...</td>\n",
       "      <td>...</td>\n",
       "      <td>...</td>\n",
       "      <td>...</td>\n",
       "      <td>...</td>\n",
       "      <td>...</td>\n",
       "      <td>...</td>\n",
       "      <td>...</td>\n",
       "      <td>...</td>\n",
       "    </tr>\n",
       "    <tr>\n",
       "      <th>18976</th>\n",
       "      <td>Zotamou,Jean Marie D</td>\n",
       "      <td>AIDE BLUE CHIP</td>\n",
       "      <td>W02235</td>\n",
       "      <td>Youth Summer</td>\n",
       "      <td>05/21/2014</td>\n",
       "      <td>11310.0</td>\n",
       "      <td>21</td>\n",
       "      <td>5</td>\n",
       "      <td>2014</td>\n",
       "    </tr>\n",
       "    <tr>\n",
       "      <th>18977</th>\n",
       "      <td>Zotamou,Pivot D</td>\n",
       "      <td>AIDE BLUE CHIP</td>\n",
       "      <td>W02629</td>\n",
       "      <td>Youth Summer</td>\n",
       "      <td>05/21/2014</td>\n",
       "      <td>11310.0</td>\n",
       "      <td>21</td>\n",
       "      <td>5</td>\n",
       "      <td>2014</td>\n",
       "    </tr>\n",
       "    <tr>\n",
       "      <th>18978</th>\n",
       "      <td>Zovistoski,Zachary D</td>\n",
       "      <td>POLICE OFFICER TRAINEE</td>\n",
       "      <td>A99416</td>\n",
       "      <td>Police Department</td>\n",
       "      <td>12/17/2013</td>\n",
       "      <td>43999.0</td>\n",
       "      <td>17</td>\n",
       "      <td>12</td>\n",
       "      <td>2013</td>\n",
       "    </tr>\n",
       "    <tr>\n",
       "      <th>18979</th>\n",
       "      <td>Zubyk,Stanislav T</td>\n",
       "      <td>POLICE OFFICER</td>\n",
       "      <td>A99262</td>\n",
       "      <td>Police Department</td>\n",
       "      <td>01/23/2013</td>\n",
       "      <td>44104.0</td>\n",
       "      <td>23</td>\n",
       "      <td>1</td>\n",
       "      <td>2013</td>\n",
       "    </tr>\n",
       "    <tr>\n",
       "      <th>18980</th>\n",
       "      <td>Zukowski,Charles J</td>\n",
       "      <td>Waste Water Tech Supv I Pump</td>\n",
       "      <td>A50206</td>\n",
       "      <td>DPW-Water &amp; Waste Water</td>\n",
       "      <td>10/15/1979</td>\n",
       "      <td>53568.0</td>\n",
       "      <td>15</td>\n",
       "      <td>10</td>\n",
       "      <td>1979</td>\n",
       "    </tr>\n",
       "  </tbody>\n",
       "</table>\n",
       "<p>18911 rows × 9 columns</p>\n",
       "</div>"
      ],
      "text/plain": [
       "                       Name                       JobTitle AgencyID  \\\n",
       "0           Aaron,Keontae E                 AIDE BLUE CHIP   W02200   \n",
       "1          Aaron,Patricia G  Facilities/Office Services II   A03031   \n",
       "2             Aaron,Petra L     ASSISTANT STATE'S ATTORNEY   A29005   \n",
       "3        Abaineh,Yohannes T                 EPIDEMIOLOGIST   A65026   \n",
       "4          Abbene,Anthony M         POLICE OFFICER TRAINEE   A99416   \n",
       "...                     ...                            ...      ...   \n",
       "18976  Zotamou,Jean Marie D                 AIDE BLUE CHIP   W02235   \n",
       "18977       Zotamou,Pivot D                 AIDE BLUE CHIP   W02629   \n",
       "18978  Zovistoski,Zachary D         POLICE OFFICER TRAINEE   A99416   \n",
       "18979     Zubyk,Stanislav T                 POLICE OFFICER   A99262   \n",
       "18980    Zukowski,Charles J   Waste Water Tech Supv I Pump   A50206   \n",
       "\n",
       "                        Agency    HireDate  AnnualSalary  HireDay  HireMonth  \\\n",
       "0                 Youth Summer  06/10/2013       11310.0       10          6   \n",
       "1           OED-Employment Dev  10/24/1979       53428.0       24         10   \n",
       "2      States Attorneys Office  09/25/2006       68300.0       25          9   \n",
       "3       HLTH-Health Department  07/23/2009       62000.0       23          7   \n",
       "4            Police Department  07/24/2013       43999.0       24          7   \n",
       "...                        ...         ...           ...      ...        ...   \n",
       "18976             Youth Summer  05/21/2014       11310.0       21          5   \n",
       "18977             Youth Summer  05/21/2014       11310.0       21          5   \n",
       "18978        Police Department  12/17/2013       43999.0       17         12   \n",
       "18979        Police Department  01/23/2013       44104.0       23          1   \n",
       "18980  DPW-Water & Waste Water  10/15/1979       53568.0       15         10   \n",
       "\n",
       "       HireYear  \n",
       "0          2013  \n",
       "1          1979  \n",
       "2          2006  \n",
       "3          2009  \n",
       "4          2013  \n",
       "...         ...  \n",
       "18976      2014  \n",
       "18977      2014  \n",
       "18978      2013  \n",
       "18979      2013  \n",
       "18980      1979  \n",
       "\n",
       "[18911 rows x 9 columns]"
      ]
     },
     "execution_count": 32,
     "metadata": {},
     "output_type": "execute_result"
    }
   ],
   "source": [
    "salary_cpy"
   ]
  },
  {
   "cell_type": "code",
   "execution_count": 33,
   "metadata": {},
   "outputs": [],
   "source": [
    "#these thre catagorical columns containd mix of upper,lower cases there fore tconvert all of them into upper case"
   ]
  },
  {
   "cell_type": "code",
   "execution_count": 34,
   "metadata": {},
   "outputs": [],
   "source": [
    "salary_cpy['JobTitle']=salary_cpy['JobTitle'].apply(lambda x: (str(x).upper()))"
   ]
  },
  {
   "cell_type": "code",
   "execution_count": 35,
   "metadata": {},
   "outputs": [],
   "source": [
    "salary_cpy['AgencyID'] =salary_cpy['AgencyID'].apply(lambda x :(str(x).upper()))"
   ]
  },
  {
   "cell_type": "code",
   "execution_count": 36,
   "metadata": {},
   "outputs": [],
   "source": [
    "salary_cpy['Agency'] =salary_cpy['Agency'].apply(lambda x :(str(x).upper()))"
   ]
  },
  {
   "cell_type": "code",
   "execution_count": 37,
   "metadata": {},
   "outputs": [
    {
     "data": {
      "text/html": [
       "<div>\n",
       "<style scoped>\n",
       "    .dataframe tbody tr th:only-of-type {\n",
       "        vertical-align: middle;\n",
       "    }\n",
       "\n",
       "    .dataframe tbody tr th {\n",
       "        vertical-align: top;\n",
       "    }\n",
       "\n",
       "    .dataframe thead th {\n",
       "        text-align: right;\n",
       "    }\n",
       "</style>\n",
       "<table border=\"1\" class=\"dataframe\">\n",
       "  <thead>\n",
       "    <tr style=\"text-align: right;\">\n",
       "      <th></th>\n",
       "      <th>Name</th>\n",
       "      <th>JobTitle</th>\n",
       "      <th>AgencyID</th>\n",
       "      <th>Agency</th>\n",
       "      <th>HireDate</th>\n",
       "      <th>AnnualSalary</th>\n",
       "      <th>HireDay</th>\n",
       "      <th>HireMonth</th>\n",
       "      <th>HireYear</th>\n",
       "    </tr>\n",
       "  </thead>\n",
       "  <tbody>\n",
       "    <tr>\n",
       "      <th>0</th>\n",
       "      <td>Aaron,Keontae E</td>\n",
       "      <td>AIDE BLUE CHIP</td>\n",
       "      <td>W02200</td>\n",
       "      <td>YOUTH SUMMER</td>\n",
       "      <td>06/10/2013</td>\n",
       "      <td>11310.0</td>\n",
       "      <td>10</td>\n",
       "      <td>6</td>\n",
       "      <td>2013</td>\n",
       "    </tr>\n",
       "    <tr>\n",
       "      <th>1</th>\n",
       "      <td>Aaron,Patricia G</td>\n",
       "      <td>FACILITIES/OFFICE SERVICES II</td>\n",
       "      <td>A03031</td>\n",
       "      <td>OED-EMPLOYMENT DEV</td>\n",
       "      <td>10/24/1979</td>\n",
       "      <td>53428.0</td>\n",
       "      <td>24</td>\n",
       "      <td>10</td>\n",
       "      <td>1979</td>\n",
       "    </tr>\n",
       "    <tr>\n",
       "      <th>2</th>\n",
       "      <td>Aaron,Petra L</td>\n",
       "      <td>ASSISTANT STATE'S ATTORNEY</td>\n",
       "      <td>A29005</td>\n",
       "      <td>STATES ATTORNEYS OFFICE</td>\n",
       "      <td>09/25/2006</td>\n",
       "      <td>68300.0</td>\n",
       "      <td>25</td>\n",
       "      <td>9</td>\n",
       "      <td>2006</td>\n",
       "    </tr>\n",
       "    <tr>\n",
       "      <th>3</th>\n",
       "      <td>Abaineh,Yohannes T</td>\n",
       "      <td>EPIDEMIOLOGIST</td>\n",
       "      <td>A65026</td>\n",
       "      <td>HLTH-HEALTH DEPARTMENT</td>\n",
       "      <td>07/23/2009</td>\n",
       "      <td>62000.0</td>\n",
       "      <td>23</td>\n",
       "      <td>7</td>\n",
       "      <td>2009</td>\n",
       "    </tr>\n",
       "    <tr>\n",
       "      <th>4</th>\n",
       "      <td>Abbene,Anthony M</td>\n",
       "      <td>POLICE OFFICER TRAINEE</td>\n",
       "      <td>A99416</td>\n",
       "      <td>POLICE DEPARTMENT</td>\n",
       "      <td>07/24/2013</td>\n",
       "      <td>43999.0</td>\n",
       "      <td>24</td>\n",
       "      <td>7</td>\n",
       "      <td>2013</td>\n",
       "    </tr>\n",
       "    <tr>\n",
       "      <th>...</th>\n",
       "      <td>...</td>\n",
       "      <td>...</td>\n",
       "      <td>...</td>\n",
       "      <td>...</td>\n",
       "      <td>...</td>\n",
       "      <td>...</td>\n",
       "      <td>...</td>\n",
       "      <td>...</td>\n",
       "      <td>...</td>\n",
       "    </tr>\n",
       "    <tr>\n",
       "      <th>18976</th>\n",
       "      <td>Zotamou,Jean Marie D</td>\n",
       "      <td>AIDE BLUE CHIP</td>\n",
       "      <td>W02235</td>\n",
       "      <td>YOUTH SUMMER</td>\n",
       "      <td>05/21/2014</td>\n",
       "      <td>11310.0</td>\n",
       "      <td>21</td>\n",
       "      <td>5</td>\n",
       "      <td>2014</td>\n",
       "    </tr>\n",
       "    <tr>\n",
       "      <th>18977</th>\n",
       "      <td>Zotamou,Pivot D</td>\n",
       "      <td>AIDE BLUE CHIP</td>\n",
       "      <td>W02629</td>\n",
       "      <td>YOUTH SUMMER</td>\n",
       "      <td>05/21/2014</td>\n",
       "      <td>11310.0</td>\n",
       "      <td>21</td>\n",
       "      <td>5</td>\n",
       "      <td>2014</td>\n",
       "    </tr>\n",
       "    <tr>\n",
       "      <th>18978</th>\n",
       "      <td>Zovistoski,Zachary D</td>\n",
       "      <td>POLICE OFFICER TRAINEE</td>\n",
       "      <td>A99416</td>\n",
       "      <td>POLICE DEPARTMENT</td>\n",
       "      <td>12/17/2013</td>\n",
       "      <td>43999.0</td>\n",
       "      <td>17</td>\n",
       "      <td>12</td>\n",
       "      <td>2013</td>\n",
       "    </tr>\n",
       "    <tr>\n",
       "      <th>18979</th>\n",
       "      <td>Zubyk,Stanislav T</td>\n",
       "      <td>POLICE OFFICER</td>\n",
       "      <td>A99262</td>\n",
       "      <td>POLICE DEPARTMENT</td>\n",
       "      <td>01/23/2013</td>\n",
       "      <td>44104.0</td>\n",
       "      <td>23</td>\n",
       "      <td>1</td>\n",
       "      <td>2013</td>\n",
       "    </tr>\n",
       "    <tr>\n",
       "      <th>18980</th>\n",
       "      <td>Zukowski,Charles J</td>\n",
       "      <td>WASTE WATER TECH SUPV I PUMP</td>\n",
       "      <td>A50206</td>\n",
       "      <td>DPW-WATER &amp; WASTE WATER</td>\n",
       "      <td>10/15/1979</td>\n",
       "      <td>53568.0</td>\n",
       "      <td>15</td>\n",
       "      <td>10</td>\n",
       "      <td>1979</td>\n",
       "    </tr>\n",
       "  </tbody>\n",
       "</table>\n",
       "<p>18911 rows × 9 columns</p>\n",
       "</div>"
      ],
      "text/plain": [
       "                       Name                       JobTitle AgencyID  \\\n",
       "0           Aaron,Keontae E                 AIDE BLUE CHIP   W02200   \n",
       "1          Aaron,Patricia G  FACILITIES/OFFICE SERVICES II   A03031   \n",
       "2             Aaron,Petra L     ASSISTANT STATE'S ATTORNEY   A29005   \n",
       "3        Abaineh,Yohannes T                 EPIDEMIOLOGIST   A65026   \n",
       "4          Abbene,Anthony M         POLICE OFFICER TRAINEE   A99416   \n",
       "...                     ...                            ...      ...   \n",
       "18976  Zotamou,Jean Marie D                 AIDE BLUE CHIP   W02235   \n",
       "18977       Zotamou,Pivot D                 AIDE BLUE CHIP   W02629   \n",
       "18978  Zovistoski,Zachary D         POLICE OFFICER TRAINEE   A99416   \n",
       "18979     Zubyk,Stanislav T                 POLICE OFFICER   A99262   \n",
       "18980    Zukowski,Charles J   WASTE WATER TECH SUPV I PUMP   A50206   \n",
       "\n",
       "                        Agency    HireDate  AnnualSalary  HireDay  HireMonth  \\\n",
       "0                 YOUTH SUMMER  06/10/2013       11310.0       10          6   \n",
       "1           OED-EMPLOYMENT DEV  10/24/1979       53428.0       24         10   \n",
       "2      STATES ATTORNEYS OFFICE  09/25/2006       68300.0       25          9   \n",
       "3       HLTH-HEALTH DEPARTMENT  07/23/2009       62000.0       23          7   \n",
       "4            POLICE DEPARTMENT  07/24/2013       43999.0       24          7   \n",
       "...                        ...         ...           ...      ...        ...   \n",
       "18976             YOUTH SUMMER  05/21/2014       11310.0       21          5   \n",
       "18977             YOUTH SUMMER  05/21/2014       11310.0       21          5   \n",
       "18978        POLICE DEPARTMENT  12/17/2013       43999.0       17         12   \n",
       "18979        POLICE DEPARTMENT  01/23/2013       44104.0       23          1   \n",
       "18980  DPW-WATER & WASTE WATER  10/15/1979       53568.0       15         10   \n",
       "\n",
       "       HireYear  \n",
       "0          2013  \n",
       "1          1979  \n",
       "2          2006  \n",
       "3          2009  \n",
       "4          2013  \n",
       "...         ...  \n",
       "18976      2014  \n",
       "18977      2014  \n",
       "18978      2013  \n",
       "18979      2013  \n",
       "18980      1979  \n",
       "\n",
       "[18911 rows x 9 columns]"
      ]
     },
     "execution_count": 37,
     "metadata": {},
     "output_type": "execute_result"
    }
   ],
   "source": [
    "salary_cpy"
   ]
  },
  {
   "cell_type": "code",
   "execution_count": 38,
   "metadata": {},
   "outputs": [
    {
     "data": {
      "image/png": "[encoded data removed]",
      "text/plain": [
       "<Figure size 432x288 with 1 Axes>"
      ]
     },
     "metadata": {
      "needs_background": "light"
     },
     "output_type": "display_data"
    }
   ],
   "source": [
    "#the last step is to deal with outliers\n",
    "salary_cpy.AnnualSalary.plot.box()\n",
    "plt.show()"
   ]
  },
  {
   "cell_type": "code",
   "execution_count": 39,
   "metadata": {},
   "outputs": [],
   "source": [
    "#there are some outliers after 13,0000, we need to eliminate them"
   ]
  },
  {
   "cell_type": "code",
   "execution_count": 40,
   "metadata": {},
   "outputs": [
    {
     "data": {
      "text/plain": [
       "count     18911.000000\n",
       "mean      39660.421889\n",
       "std       25163.465942\n",
       "min           0.000000\n",
       "25%       11310.000000\n",
       "50%       36203.000000\n",
       "75%       60300.000000\n",
       "max      238772.000000\n",
       "Name: AnnualSalary, dtype: float64"
      ]
     },
     "execution_count": 40,
     "metadata": {},
     "output_type": "execute_result"
    }
   ],
   "source": [
    "#summary stat of AnnualSalary\n",
    "salary_cpy['AnnualSalary'].describe()"
   ]
  },
  {
   "cell_type": "code",
   "execution_count": 41,
   "metadata": {},
   "outputs": [],
   "source": [
    "#delete the those data  whose salary is  greater than 150000"
   ]
  },
  {
   "cell_type": "code",
   "execution_count": 42,
   "metadata": {},
   "outputs": [],
   "source": [
    "salary_cpy = salary_cpy[salary_cpy['AnnualSalary'] <150000]"
   ]
  },
  {
   "cell_type": "code",
   "execution_count": 43,
   "metadata": {},
   "outputs": [
    {
     "data": {
      "text/html": [
       "<div>\n",
       "<style scoped>\n",
       "    .dataframe tbody tr th:only-of-type {\n",
       "        vertical-align: middle;\n",
       "    }\n",
       "\n",
       "    .dataframe tbody tr th {\n",
       "        vertical-align: top;\n",
       "    }\n",
       "\n",
       "    .dataframe thead th {\n",
       "        text-align: right;\n",
       "    }\n",
       "</style>\n",
       "<table border=\"1\" class=\"dataframe\">\n",
       "  <thead>\n",
       "    <tr style=\"text-align: right;\">\n",
       "      <th></th>\n",
       "      <th>Name</th>\n",
       "      <th>JobTitle</th>\n",
       "      <th>AgencyID</th>\n",
       "      <th>Agency</th>\n",
       "      <th>HireDate</th>\n",
       "      <th>AnnualSalary</th>\n",
       "      <th>HireDay</th>\n",
       "      <th>HireMonth</th>\n",
       "      <th>HireYear</th>\n",
       "    </tr>\n",
       "  </thead>\n",
       "  <tbody>\n",
       "    <tr>\n",
       "      <th>0</th>\n",
       "      <td>Aaron,Keontae E</td>\n",
       "      <td>AIDE BLUE CHIP</td>\n",
       "      <td>W02200</td>\n",
       "      <td>YOUTH SUMMER</td>\n",
       "      <td>06/10/2013</td>\n",
       "      <td>11310.0</td>\n",
       "      <td>10</td>\n",
       "      <td>6</td>\n",
       "      <td>2013</td>\n",
       "    </tr>\n",
       "    <tr>\n",
       "      <th>1</th>\n",
       "      <td>Aaron,Patricia G</td>\n",
       "      <td>FACILITIES/OFFICE SERVICES II</td>\n",
       "      <td>A03031</td>\n",
       "      <td>OED-EMPLOYMENT DEV</td>\n",
       "      <td>10/24/1979</td>\n",
       "      <td>53428.0</td>\n",
       "      <td>24</td>\n",
       "      <td>10</td>\n",
       "      <td>1979</td>\n",
       "    </tr>\n",
       "    <tr>\n",
       "      <th>2</th>\n",
       "      <td>Aaron,Petra L</td>\n",
       "      <td>ASSISTANT STATE'S ATTORNEY</td>\n",
       "      <td>A29005</td>\n",
       "      <td>STATES ATTORNEYS OFFICE</td>\n",
       "      <td>09/25/2006</td>\n",
       "      <td>68300.0</td>\n",
       "      <td>25</td>\n",
       "      <td>9</td>\n",
       "      <td>2006</td>\n",
       "    </tr>\n",
       "    <tr>\n",
       "      <th>3</th>\n",
       "      <td>Abaineh,Yohannes T</td>\n",
       "      <td>EPIDEMIOLOGIST</td>\n",
       "      <td>A65026</td>\n",
       "      <td>HLTH-HEALTH DEPARTMENT</td>\n",
       "      <td>07/23/2009</td>\n",
       "      <td>62000.0</td>\n",
       "      <td>23</td>\n",
       "      <td>7</td>\n",
       "      <td>2009</td>\n",
       "    </tr>\n",
       "    <tr>\n",
       "      <th>4</th>\n",
       "      <td>Abbene,Anthony M</td>\n",
       "      <td>POLICE OFFICER TRAINEE</td>\n",
       "      <td>A99416</td>\n",
       "      <td>POLICE DEPARTMENT</td>\n",
       "      <td>07/24/2013</td>\n",
       "      <td>43999.0</td>\n",
       "      <td>24</td>\n",
       "      <td>7</td>\n",
       "      <td>2013</td>\n",
       "    </tr>\n",
       "    <tr>\n",
       "      <th>...</th>\n",
       "      <td>...</td>\n",
       "      <td>...</td>\n",
       "      <td>...</td>\n",
       "      <td>...</td>\n",
       "      <td>...</td>\n",
       "      <td>...</td>\n",
       "      <td>...</td>\n",
       "      <td>...</td>\n",
       "      <td>...</td>\n",
       "    </tr>\n",
       "    <tr>\n",
       "      <th>18976</th>\n",
       "      <td>Zotamou,Jean Marie D</td>\n",
       "      <td>AIDE BLUE CHIP</td>\n",
       "      <td>W02235</td>\n",
       "      <td>YOUTH SUMMER</td>\n",
       "      <td>05/21/2014</td>\n",
       "      <td>11310.0</td>\n",
       "      <td>21</td>\n",
       "      <td>5</td>\n",
       "      <td>2014</td>\n",
       "    </tr>\n",
       "    <tr>\n",
       "      <th>18977</th>\n",
       "      <td>Zotamou,Pivot D</td>\n",
       "      <td>AIDE BLUE CHIP</td>\n",
       "      <td>W02629</td>\n",
       "      <td>YOUTH SUMMER</td>\n",
       "      <td>05/21/2014</td>\n",
       "      <td>11310.0</td>\n",
       "      <td>21</td>\n",
       "      <td>5</td>\n",
       "      <td>2014</td>\n",
       "    </tr>\n",
       "    <tr>\n",
       "      <th>18978</th>\n",
       "      <td>Zovistoski,Zachary D</td>\n",
       "      <td>POLICE OFFICER TRAINEE</td>\n",
       "      <td>A99416</td>\n",
       "      <td>POLICE DEPARTMENT</td>\n",
       "      <td>12/17/2013</td>\n",
       "      <td>43999.0</td>\n",
       "      <td>17</td>\n",
       "      <td>12</td>\n",
       "      <td>2013</td>\n",
       "    </tr>\n",
       "    <tr>\n",
       "      <th>18979</th>\n",
       "      <td>Zubyk,Stanislav T</td>\n",
       "      <td>POLICE OFFICER</td>\n",
       "      <td>A99262</td>\n",
       "      <td>POLICE DEPARTMENT</td>\n",
       "      <td>01/23/2013</td>\n",
       "      <td>44104.0</td>\n",
       "      <td>23</td>\n",
       "      <td>1</td>\n",
       "      <td>2013</td>\n",
       "    </tr>\n",
       "    <tr>\n",
       "      <th>18980</th>\n",
       "      <td>Zukowski,Charles J</td>\n",
       "      <td>WASTE WATER TECH SUPV I PUMP</td>\n",
       "      <td>A50206</td>\n",
       "      <td>DPW-WATER &amp; WASTE WATER</td>\n",
       "      <td>10/15/1979</td>\n",
       "      <td>53568.0</td>\n",
       "      <td>15</td>\n",
       "      <td>10</td>\n",
       "      <td>1979</td>\n",
       "    </tr>\n",
       "  </tbody>\n",
       "</table>\n",
       "<p>18895 rows × 9 columns</p>\n",
       "</div>"
      ],
      "text/plain": [
       "                       Name                       JobTitle AgencyID  \\\n",
       "0           Aaron,Keontae E                 AIDE BLUE CHIP   W02200   \n",
       "1          Aaron,Patricia G  FACILITIES/OFFICE SERVICES II   A03031   \n",
       "2             Aaron,Petra L     ASSISTANT STATE'S ATTORNEY   A29005   \n",
       "3        Abaineh,Yohannes T                 EPIDEMIOLOGIST   A65026   \n",
       "4          Abbene,Anthony M         POLICE OFFICER TRAINEE   A99416   \n",
       "...                     ...                            ...      ...   \n",
       "18976  Zotamou,Jean Marie D                 AIDE BLUE CHIP   W02235   \n",
       "18977       Zotamou,Pivot D                 AIDE BLUE CHIP   W02629   \n",
       "18978  Zovistoski,Zachary D         POLICE OFFICER TRAINEE   A99416   \n",
       "18979     Zubyk,Stanislav T                 POLICE OFFICER   A99262   \n",
       "18980    Zukowski,Charles J   WASTE WATER TECH SUPV I PUMP   A50206   \n",
       "\n",
       "                        Agency    HireDate  AnnualSalary  HireDay  HireMonth  \\\n",
       "0                 YOUTH SUMMER  06/10/2013       11310.0       10          6   \n",
       "1           OED-EMPLOYMENT DEV  10/24/1979       53428.0       24         10   \n",
       "2      STATES ATTORNEYS OFFICE  09/25/2006       68300.0       25          9   \n",
       "3       HLTH-HEALTH DEPARTMENT  07/23/2009       62000.0       23          7   \n",
       "4            POLICE DEPARTMENT  07/24/2013       43999.0       24          7   \n",
       "...                        ...         ...           ...      ...        ...   \n",
       "18976             YOUTH SUMMER  05/21/2014       11310.0       21          5   \n",
       "18977             YOUTH SUMMER  05/21/2014       11310.0       21          5   \n",
       "18978        POLICE DEPARTMENT  12/17/2013       43999.0       17         12   \n",
       "18979        POLICE DEPARTMENT  01/23/2013       44104.0       23          1   \n",
       "18980  DPW-WATER & WASTE WATER  10/15/1979       53568.0       15         10   \n",
       "\n",
       "       HireYear  \n",
       "0          2013  \n",
       "1          1979  \n",
       "2          2006  \n",
       "3          2009  \n",
       "4          2013  \n",
       "...         ...  \n",
       "18976      2014  \n",
       "18977      2014  \n",
       "18978      2013  \n",
       "18979      2013  \n",
       "18980      1979  \n",
       "\n",
       "[18895 rows x 9 columns]"
      ]
     },
     "execution_count": 43,
     "metadata": {},
     "output_type": "execute_result"
    }
   ],
   "source": [
    "salary_cpy"
   ]
  },
  {
   "cell_type": "code",
   "execution_count": 44,
   "metadata": {},
   "outputs": [
    {
     "data": {
      "image/png": "[encoded data removed]",
      "text/plain": [
       "<Figure size 432x288 with 1 Axes>"
      ]
     },
     "metadata": {
      "needs_background": "light"
     },
     "output_type": "display_data"
    }
   ],
   "source": [
    "salary_cpy['AnnualSalary'].plot.box()\n",
    "plt.show()"
   ]
  },
  {
   "cell_type": "markdown",
   "metadata": {},
   "source": [
    "# Data Preparation is done"
   ]
  },
  {
   "cell_type": "code",
   "execution_count": 45,
   "metadata": {},
   "outputs": [],
   "source": [
    "#check the distribution of the data using displot"
   ]
  },
  {
   "cell_type": "code",
   "execution_count": 46,
   "metadata": {},
   "outputs": [
    {
     "data": {
      "image/png": "[encoded data removed]",
      "text/plain": [
       "<Figure size 360x360 with 1 Axes>"
      ]
     },
     "metadata": {
      "needs_background": "light"
     },
     "output_type": "display_data"
    }
   ],
   "source": [
    "sns.displot(salary_cpy.AnnualSalary)\n",
    "plt.title('ANNUALSALARY distribution plot',fontsize=15)\n",
    "plt.show()"
   ]
  },
  {
   "cell_type": "code",
   "execution_count": 47,
   "metadata": {},
   "outputs": [],
   "source": [
    "#the data is disstributed very randomly and the there are a very few values after the 10,0000"
   ]
  },
  {
   "cell_type": "code",
   "execution_count": 48,
   "metadata": {},
   "outputs": [
    {
     "data": {
      "image/png": "[encoded data removed]",
      "text/plain": [
       "<Figure size 720x360 with 1 Axes>"
      ]
     },
     "metadata": {
      "needs_background": "light"
     },
     "output_type": "display_data"
    }
   ],
   "source": [
    "#which particular job is in momre demand\n",
    "plt.figure(figsize=(10,5))\n",
    "salary_cpy.groupby(['JobTitle'])['Name'].count().sort_values(ascending=False).head(10).plot.bar()\n",
    "plt.ylabel('No. of people hired')\n",
    "plt.title(\"Top 10 jobs which are hiring highest\")\n",
    "plt.show()"
   ]
  },
  {
   "cell_type": "code",
   "execution_count": 49,
   "metadata": {},
   "outputs": [
    {
     "data": {
      "image/png": "[encoded data removed]",
      "text/plain": [
       "<Figure size 720x360 with 1 Axes>"
      ]
     },
     "metadata": {
      "needs_background": "light"
     },
     "output_type": "display_data"
    }
   ],
   "source": [
    "#top 10 jobs that fetch high salary\n",
    "plt.figure(figsize=(10,5))\n",
    "salary_cpy.groupby(['JobTitle'])['AnnualSalary'].mean().sort_values(ascending=False).head(10).plot.bar()\n",
    "plt.ylabel('avg salary')\n",
    "plt.title(\"Top 10 high paid saalries\")\n",
    "plt.show()"
   ]
  },
  {
   "cell_type": "code",
   "execution_count": 50,
   "metadata": {},
   "outputs": [],
   "source": [
    "#number of jobs whose avg salary is more than avg salary of the company\n",
    "mean_salary = salary_cpy['AnnualSalary'].mean()"
   ]
  },
  {
   "cell_type": "code",
   "execution_count": 51,
   "metadata": {},
   "outputs": [
    {
     "data": {
      "text/plain": [
       "39547.805098703364"
      ]
     },
     "execution_count": 51,
     "metadata": {},
     "output_type": "execute_result"
    }
   ],
   "source": [
    "mean_salary"
   ]
  },
  {
   "cell_type": "code",
   "execution_count": 52,
   "metadata": {},
   "outputs": [
    {
     "data": {
      "text/plain": [
       "798"
      ]
     },
     "execution_count": 52,
     "metadata": {},
     "output_type": "execute_result"
    }
   ],
   "source": [
    "good_paying_jobs = salary_cpy.groupby(['JobTitle'])['AnnualSalary'].mean().reset_index()\n",
    "good_paying_jobs[good_paying_jobs.AnnualSalary>mean_salary]['JobTitle'].count()"
   ]
  },
  {
   "cell_type": "code",
   "execution_count": 53,
   "metadata": {},
   "outputs": [
    {
     "data": {
      "text/html": [
       "<div>\n",
       "<style scoped>\n",
       "    .dataframe tbody tr th:only-of-type {\n",
       "        vertical-align: middle;\n",
       "    }\n",
       "\n",
       "    .dataframe tbody tr th {\n",
       "        vertical-align: top;\n",
       "    }\n",
       "\n",
       "    .dataframe thead th {\n",
       "        text-align: right;\n",
       "    }\n",
       "</style>\n",
       "<table border=\"1\" class=\"dataframe\">\n",
       "  <thead>\n",
       "    <tr style=\"text-align: right;\">\n",
       "      <th></th>\n",
       "      <th>JobTitle</th>\n",
       "      <th>AnnualSalary</th>\n",
       "    </tr>\n",
       "  </thead>\n",
       "  <tbody>\n",
       "    <tr>\n",
       "      <th>0</th>\n",
       "      <td>911 LEAD OPERATOR</td>\n",
       "      <td>47886.000000</td>\n",
       "    </tr>\n",
       "    <tr>\n",
       "      <th>1</th>\n",
       "      <td>911 OPERATOR</td>\n",
       "      <td>42835.743590</td>\n",
       "    </tr>\n",
       "    <tr>\n",
       "      <th>2</th>\n",
       "      <td>911 OPERATOR SUPERVISOR</td>\n",
       "      <td>54797.500000</td>\n",
       "    </tr>\n",
       "    <tr>\n",
       "      <th>3</th>\n",
       "      <td>ACCOUNT EXECUTIVE</td>\n",
       "      <td>42960.000000</td>\n",
       "    </tr>\n",
       "    <tr>\n",
       "      <th>4</th>\n",
       "      <td>ACCOUNTANT I</td>\n",
       "      <td>46316.642857</td>\n",
       "    </tr>\n",
       "    <tr>\n",
       "      <th>...</th>\n",
       "      <td>...</td>\n",
       "      <td>...</td>\n",
       "    </tr>\n",
       "    <tr>\n",
       "      <th>1050</th>\n",
       "      <td>ZONING ADMINISTRATOR</td>\n",
       "      <td>82100.000000</td>\n",
       "    </tr>\n",
       "    <tr>\n",
       "      <th>1051</th>\n",
       "      <td>ZONING APPEALS ADVISOR BMZA</td>\n",
       "      <td>59274.000000</td>\n",
       "    </tr>\n",
       "    <tr>\n",
       "      <th>1052</th>\n",
       "      <td>ZONING ENFORCEMENT OFFICER</td>\n",
       "      <td>62000.000000</td>\n",
       "    </tr>\n",
       "    <tr>\n",
       "      <th>1053</th>\n",
       "      <td>ZONING EXAMINER I</td>\n",
       "      <td>43674.000000</td>\n",
       "    </tr>\n",
       "    <tr>\n",
       "      <th>1054</th>\n",
       "      <td>ZONING EXAMINER II</td>\n",
       "      <td>53568.000000</td>\n",
       "    </tr>\n",
       "  </tbody>\n",
       "</table>\n",
       "<p>1055 rows × 2 columns</p>\n",
       "</div>"
      ],
      "text/plain": [
       "                         JobTitle  AnnualSalary\n",
       "0               911 LEAD OPERATOR  47886.000000\n",
       "1                    911 OPERATOR  42835.743590\n",
       "2         911 OPERATOR SUPERVISOR  54797.500000\n",
       "3               ACCOUNT EXECUTIVE  42960.000000\n",
       "4                    ACCOUNTANT I  46316.642857\n",
       "...                           ...           ...\n",
       "1050         ZONING ADMINISTRATOR  82100.000000\n",
       "1051  ZONING APPEALS ADVISOR BMZA  59274.000000\n",
       "1052   ZONING ENFORCEMENT OFFICER  62000.000000\n",
       "1053            ZONING EXAMINER I  43674.000000\n",
       "1054           ZONING EXAMINER II  53568.000000\n",
       "\n",
       "[1055 rows x 2 columns]"
      ]
     },
     "execution_count": 53,
     "metadata": {},
     "output_type": "execute_result"
    }
   ],
   "source": [
    "good_paying_jobs\n"
   ]
  },
  {
   "cell_type": "code",
   "execution_count": 54,
   "metadata": {},
   "outputs": [
    {
     "data": {
      "image/png": "[encoded data removed]",
      "text/plain": [
       "<Figure size 720x360 with 1 Axes>"
      ]
     },
     "metadata": {
      "needs_background": "light"
     },
     "output_type": "display_data"
    }
   ],
   "source": [
    "#check top 10 agencies with highest number of employees\n",
    "plt.figure(figsize=(10,5))\n",
    "salary_cpy.groupby(['Agency'])['Name'].count().sort_values(ascending=False).head(10).plot.bar()\n",
    "plt.ylabel('No. of employees')\n",
    "plt.title(\"top 10 agencies with highest number of employees\")\n",
    "\n",
    "plt.show()"
   ]
  },
  {
   "cell_type": "code",
   "execution_count": 55,
   "metadata": {},
   "outputs": [
    {
     "data": {
      "image/png": "[encoded data removed]",
      "text/plain": [
       "<Figure size 720x360 with 1 Axes>"
      ]
     },
     "metadata": {
      "needs_background": "light"
     },
     "output_type": "display_data"
    }
   ],
   "source": [
    "#check witch year hired employee have lowest salary\n",
    "plt.figure(figsize=(10,5))\n",
    "salary_cpy.groupby(['AgencyID'])['AnnualSalary'].count().sort_values(ascending=False).head(10).plot.bar()\n",
    "plt.ylabel('No. of employees')\n",
    "plt.title(\"top 10 agencies with highest number of employees\")\n",
    "\n",
    "plt.show()"
   ]
  },
  {
   "cell_type": "code",
   "execution_count": 56,
   "metadata": {},
   "outputs": [
    {
     "data": {
      "image/png": "[encoded data removed]",
      "text/plain": [
       "<Figure size 720x360 with 1 Axes>"
      ]
     },
     "metadata": {
      "needs_background": "light"
     },
     "output_type": "display_data"
    }
   ],
   "source": [
    "#in which year the people hired are have lowest salries\n",
    "#this is to check wether woth experience salaries are increasing or decresing\n",
    "plt.figure(figsize=(10,5))\n",
    "salary_cpy.groupby(['HireYear'])['AnnualSalary'].mean().sort_values(ascending=True).head(10).plot.bar()\n",
    "plt.ylabel('AVERAGE SALARY')\n",
    "plt.title('avg salary of employees based on hired year')\n",
    "plt.show()"
   ]
  },
  {
   "cell_type": "markdown",
   "metadata": {},
   "source": [
    "the abow trend shows that the with incresing of experience salaries are also incresing\n",
    "now let us calcuclate experience in date with agency"
   ]
  },
  {
   "cell_type": "code",
   "execution_count": 57,
   "metadata": {},
   "outputs": [
    {
     "data": {
      "image/png": "[encoded data removed]",
      "text/plain": [
       "<Figure size 720x360 with 1 Axes>"
      ]
     },
     "metadata": {
      "needs_background": "light"
     },
     "output_type": "display_data"
    }
   ],
   "source": [
    "plt.figure(figsize=(10,5))\n",
    "salary_cpy.groupby(['HireMonth'])['AnnualSalary'].mean().plot.bar()\n",
    "plt.ylabel('AVERAGE SALARY')\n",
    "plt.title('avg salary of employees based on hired Month')\n",
    "plt.show()"
   ]
  },
  {
   "cell_type": "markdown",
   "metadata": {},
   "source": [
    "generally no relation between hiredmonth like people hired in particular month will get higher salries\n",
    "therefore in months 5,6 actually the hiring is less so,annual salary mean is also less."
   ]
  },
  {
   "cell_type": "code",
   "execution_count": 58,
   "metadata": {},
   "outputs": [
    {
     "data": {
      "image/png": "[encoded data removed]",
      "text/plain": [
       "<Figure size 720x360 with 1 Axes>"
      ]
     },
     "metadata": {
      "needs_background": "light"
     },
     "output_type": "display_data"
    }
   ],
   "source": [
    "#in which month more people were hired\n",
    "plt.figure(figsize=(10,5))\n",
    "salary_cpy.groupby(['HireMonth'])['Name'].count().plot.bar()\n",
    "plt.show()"
   ]
  },
  {
   "cell_type": "markdown",
   "metadata": {},
   "source": [
    "even though the raltion between month and salary is not exatly there \n",
    "it is showing that the people hired in may,june have relatively less Annual salaries\n",
    "**this is because may be the companies budget is low at that time\n",
    "**some particulat agency did aggressive hiring with less salaries like that\n",
    "we may assume"
   ]
  },
  {
   "cell_type": "raw",
   "metadata": {},
   "source": [
    "let us check is there any realtion between numerical variables using pairplot "
   ]
  },
  {
   "cell_type": "code",
   "execution_count": 59,
   "metadata": {},
   "outputs": [
    {
     "data": {
      "text/plain": [
       "<Figure size 720x360 with 0 Axes>"
      ]
     },
     "metadata": {},
     "output_type": "display_data"
    },
    {
     "data": {
      "image/png": "[encoded data removed]",
      "text/plain": [
       "<Figure size 720x720 with 20 Axes>"
      ]
     },
     "metadata": {
      "needs_background": "light"
     },
     "output_type": "display_data"
    }
   ],
   "source": [
    "plt.figure(figsize=(10,5))\n",
    "sns.pairplot(salary_cpy)\n",
    "plt.show()"
   ]
  },
  {
   "cell_type": "code",
   "execution_count": 60,
   "metadata": {},
   "outputs": [
    {
     "data": {
      "image/png": "[encoded data removed]",
      "text/plain": [
       "<Figure size 720x360 with 2 Axes>"
      ]
     },
     "metadata": {
      "needs_background": "light"
     },
     "output_type": "display_data"
    }
   ],
   "source": [
    "# in pairplot no usefull trend is observed\n",
    "#let us see the heatmap correalion\n",
    "plt.figure(figsize=(10,5))\n",
    "sns.heatmap(salary_cpy.corr(),annot=True)\n",
    "plt.show()"
   ]
  },
  {
   "cell_type": "markdown",
   "metadata": {},
   "source": [
    "# Feature Engineering"
   ]
  },
  {
   "cell_type": "code",
   "execution_count": 61,
   "metadata": {},
   "outputs": [],
   "source": [
    "salary_master = salary_cpy.copy()"
   ]
  },
  {
   "cell_type": "code",
   "execution_count": 62,
   "metadata": {},
   "outputs": [
    {
     "data": {
      "text/html": [
       "<div>\n",
       "<style scoped>\n",
       "    .dataframe tbody tr th:only-of-type {\n",
       "        vertical-align: middle;\n",
       "    }\n",
       "\n",
       "    .dataframe tbody tr th {\n",
       "        vertical-align: top;\n",
       "    }\n",
       "\n",
       "    .dataframe thead th {\n",
       "        text-align: right;\n",
       "    }\n",
       "</style>\n",
       "<table border=\"1\" class=\"dataframe\">\n",
       "  <thead>\n",
       "    <tr style=\"text-align: right;\">\n",
       "      <th></th>\n",
       "      <th>Name</th>\n",
       "      <th>JobTitle</th>\n",
       "      <th>AgencyID</th>\n",
       "      <th>Agency</th>\n",
       "      <th>HireDate</th>\n",
       "      <th>AnnualSalary</th>\n",
       "      <th>HireDay</th>\n",
       "      <th>HireMonth</th>\n",
       "      <th>HireYear</th>\n",
       "    </tr>\n",
       "  </thead>\n",
       "  <tbody>\n",
       "    <tr>\n",
       "      <th>0</th>\n",
       "      <td>Aaron,Keontae E</td>\n",
       "      <td>AIDE BLUE CHIP</td>\n",
       "      <td>W02200</td>\n",
       "      <td>YOUTH SUMMER</td>\n",
       "      <td>06/10/2013</td>\n",
       "      <td>11310.0</td>\n",
       "      <td>10</td>\n",
       "      <td>6</td>\n",
       "      <td>2013</td>\n",
       "    </tr>\n",
       "    <tr>\n",
       "      <th>1</th>\n",
       "      <td>Aaron,Patricia G</td>\n",
       "      <td>FACILITIES/OFFICE SERVICES II</td>\n",
       "      <td>A03031</td>\n",
       "      <td>OED-EMPLOYMENT DEV</td>\n",
       "      <td>10/24/1979</td>\n",
       "      <td>53428.0</td>\n",
       "      <td>24</td>\n",
       "      <td>10</td>\n",
       "      <td>1979</td>\n",
       "    </tr>\n",
       "    <tr>\n",
       "      <th>2</th>\n",
       "      <td>Aaron,Petra L</td>\n",
       "      <td>ASSISTANT STATE'S ATTORNEY</td>\n",
       "      <td>A29005</td>\n",
       "      <td>STATES ATTORNEYS OFFICE</td>\n",
       "      <td>09/25/2006</td>\n",
       "      <td>68300.0</td>\n",
       "      <td>25</td>\n",
       "      <td>9</td>\n",
       "      <td>2006</td>\n",
       "    </tr>\n",
       "    <tr>\n",
       "      <th>3</th>\n",
       "      <td>Abaineh,Yohannes T</td>\n",
       "      <td>EPIDEMIOLOGIST</td>\n",
       "      <td>A65026</td>\n",
       "      <td>HLTH-HEALTH DEPARTMENT</td>\n",
       "      <td>07/23/2009</td>\n",
       "      <td>62000.0</td>\n",
       "      <td>23</td>\n",
       "      <td>7</td>\n",
       "      <td>2009</td>\n",
       "    </tr>\n",
       "    <tr>\n",
       "      <th>4</th>\n",
       "      <td>Abbene,Anthony M</td>\n",
       "      <td>POLICE OFFICER TRAINEE</td>\n",
       "      <td>A99416</td>\n",
       "      <td>POLICE DEPARTMENT</td>\n",
       "      <td>07/24/2013</td>\n",
       "      <td>43999.0</td>\n",
       "      <td>24</td>\n",
       "      <td>7</td>\n",
       "      <td>2013</td>\n",
       "    </tr>\n",
       "    <tr>\n",
       "      <th>...</th>\n",
       "      <td>...</td>\n",
       "      <td>...</td>\n",
       "      <td>...</td>\n",
       "      <td>...</td>\n",
       "      <td>...</td>\n",
       "      <td>...</td>\n",
       "      <td>...</td>\n",
       "      <td>...</td>\n",
       "      <td>...</td>\n",
       "    </tr>\n",
       "    <tr>\n",
       "      <th>18976</th>\n",
       "      <td>Zotamou,Jean Marie D</td>\n",
       "      <td>AIDE BLUE CHIP</td>\n",
       "      <td>W02235</td>\n",
       "      <td>YOUTH SUMMER</td>\n",
       "      <td>05/21/2014</td>\n",
       "      <td>11310.0</td>\n",
       "      <td>21</td>\n",
       "      <td>5</td>\n",
       "      <td>2014</td>\n",
       "    </tr>\n",
       "    <tr>\n",
       "      <th>18977</th>\n",
       "      <td>Zotamou,Pivot D</td>\n",
       "      <td>AIDE BLUE CHIP</td>\n",
       "      <td>W02629</td>\n",
       "      <td>YOUTH SUMMER</td>\n",
       "      <td>05/21/2014</td>\n",
       "      <td>11310.0</td>\n",
       "      <td>21</td>\n",
       "      <td>5</td>\n",
       "      <td>2014</td>\n",
       "    </tr>\n",
       "    <tr>\n",
       "      <th>18978</th>\n",
       "      <td>Zovistoski,Zachary D</td>\n",
       "      <td>POLICE OFFICER TRAINEE</td>\n",
       "      <td>A99416</td>\n",
       "      <td>POLICE DEPARTMENT</td>\n",
       "      <td>12/17/2013</td>\n",
       "      <td>43999.0</td>\n",
       "      <td>17</td>\n",
       "      <td>12</td>\n",
       "      <td>2013</td>\n",
       "    </tr>\n",
       "    <tr>\n",
       "      <th>18979</th>\n",
       "      <td>Zubyk,Stanislav T</td>\n",
       "      <td>POLICE OFFICER</td>\n",
       "      <td>A99262</td>\n",
       "      <td>POLICE DEPARTMENT</td>\n",
       "      <td>01/23/2013</td>\n",
       "      <td>44104.0</td>\n",
       "      <td>23</td>\n",
       "      <td>1</td>\n",
       "      <td>2013</td>\n",
       "    </tr>\n",
       "    <tr>\n",
       "      <th>18980</th>\n",
       "      <td>Zukowski,Charles J</td>\n",
       "      <td>WASTE WATER TECH SUPV I PUMP</td>\n",
       "      <td>A50206</td>\n",
       "      <td>DPW-WATER &amp; WASTE WATER</td>\n",
       "      <td>10/15/1979</td>\n",
       "      <td>53568.0</td>\n",
       "      <td>15</td>\n",
       "      <td>10</td>\n",
       "      <td>1979</td>\n",
       "    </tr>\n",
       "  </tbody>\n",
       "</table>\n",
       "<p>18895 rows × 9 columns</p>\n",
       "</div>"
      ],
      "text/plain": [
       "                       Name                       JobTitle AgencyID  \\\n",
       "0           Aaron,Keontae E                 AIDE BLUE CHIP   W02200   \n",
       "1          Aaron,Patricia G  FACILITIES/OFFICE SERVICES II   A03031   \n",
       "2             Aaron,Petra L     ASSISTANT STATE'S ATTORNEY   A29005   \n",
       "3        Abaineh,Yohannes T                 EPIDEMIOLOGIST   A65026   \n",
       "4          Abbene,Anthony M         POLICE OFFICER TRAINEE   A99416   \n",
       "...                     ...                            ...      ...   \n",
       "18976  Zotamou,Jean Marie D                 AIDE BLUE CHIP   W02235   \n",
       "18977       Zotamou,Pivot D                 AIDE BLUE CHIP   W02629   \n",
       "18978  Zovistoski,Zachary D         POLICE OFFICER TRAINEE   A99416   \n",
       "18979     Zubyk,Stanislav T                 POLICE OFFICER   A99262   \n",
       "18980    Zukowski,Charles J   WASTE WATER TECH SUPV I PUMP   A50206   \n",
       "\n",
       "                        Agency    HireDate  AnnualSalary  HireDay  HireMonth  \\\n",
       "0                 YOUTH SUMMER  06/10/2013       11310.0       10          6   \n",
       "1           OED-EMPLOYMENT DEV  10/24/1979       53428.0       24         10   \n",
       "2      STATES ATTORNEYS OFFICE  09/25/2006       68300.0       25          9   \n",
       "3       HLTH-HEALTH DEPARTMENT  07/23/2009       62000.0       23          7   \n",
       "4            POLICE DEPARTMENT  07/24/2013       43999.0       24          7   \n",
       "...                        ...         ...           ...      ...        ...   \n",
       "18976             YOUTH SUMMER  05/21/2014       11310.0       21          5   \n",
       "18977             YOUTH SUMMER  05/21/2014       11310.0       21          5   \n",
       "18978        POLICE DEPARTMENT  12/17/2013       43999.0       17         12   \n",
       "18979        POLICE DEPARTMENT  01/23/2013       44104.0       23          1   \n",
       "18980  DPW-WATER & WASTE WATER  10/15/1979       53568.0       15         10   \n",
       "\n",
       "       HireYear  \n",
       "0          2013  \n",
       "1          1979  \n",
       "2          2006  \n",
       "3          2009  \n",
       "4          2013  \n",
       "...         ...  \n",
       "18976      2014  \n",
       "18977      2014  \n",
       "18978      2013  \n",
       "18979      2013  \n",
       "18980      1979  \n",
       "\n",
       "[18895 rows x 9 columns]"
      ]
     },
     "execution_count": 62,
     "metadata": {},
     "output_type": "execute_result"
    }
   ],
   "source": [
    "salary_master"
   ]
  },
  {
   "cell_type": "raw",
   "metadata": {},
   "source": [
    "#we are applying mean enciding method because here no.of values of catagorical va;;ues are very high if we use one hot encoding or multiple encoding it will create many unnecceary columns\n",
    "#apply mean encoding"
   ]
  },
  {
   "cell_type": "code",
   "execution_count": 63,
   "metadata": {},
   "outputs": [],
   "source": [
    "\n",
    "job_mean = salary_master.groupby(['JobTitle'])['AnnualSalary'].mean()\n",
    "salary_master['JobTitle'] = salary_master['JobTitle'].map(job_mean)"
   ]
  },
  {
   "cell_type": "code",
   "execution_count": 64,
   "metadata": {},
   "outputs": [
    {
     "data": {
      "text/html": [
       "<div>\n",
       "<style scoped>\n",
       "    .dataframe tbody tr th:only-of-type {\n",
       "        vertical-align: middle;\n",
       "    }\n",
       "\n",
       "    .dataframe tbody tr th {\n",
       "        vertical-align: top;\n",
       "    }\n",
       "\n",
       "    .dataframe thead th {\n",
       "        text-align: right;\n",
       "    }\n",
       "</style>\n",
       "<table border=\"1\" class=\"dataframe\">\n",
       "  <thead>\n",
       "    <tr style=\"text-align: right;\">\n",
       "      <th></th>\n",
       "      <th>Name</th>\n",
       "      <th>JobTitle</th>\n",
       "      <th>AgencyID</th>\n",
       "      <th>Agency</th>\n",
       "      <th>HireDate</th>\n",
       "      <th>AnnualSalary</th>\n",
       "      <th>HireDay</th>\n",
       "      <th>HireMonth</th>\n",
       "      <th>HireYear</th>\n",
       "    </tr>\n",
       "  </thead>\n",
       "  <tbody>\n",
       "    <tr>\n",
       "      <th>0</th>\n",
       "      <td>Aaron,Keontae E</td>\n",
       "      <td>11313.967200</td>\n",
       "      <td>W02200</td>\n",
       "      <td>YOUTH SUMMER</td>\n",
       "      <td>06/10/2013</td>\n",
       "      <td>11310.0</td>\n",
       "      <td>10</td>\n",
       "      <td>6</td>\n",
       "      <td>2013</td>\n",
       "    </tr>\n",
       "    <tr>\n",
       "      <th>1</th>\n",
       "      <td>Aaron,Patricia G</td>\n",
       "      <td>47443.500000</td>\n",
       "      <td>A03031</td>\n",
       "      <td>OED-EMPLOYMENT DEV</td>\n",
       "      <td>10/24/1979</td>\n",
       "      <td>53428.0</td>\n",
       "      <td>24</td>\n",
       "      <td>10</td>\n",
       "      <td>1979</td>\n",
       "    </tr>\n",
       "    <tr>\n",
       "      <th>2</th>\n",
       "      <td>Aaron,Petra L</td>\n",
       "      <td>69750.666667</td>\n",
       "      <td>A29005</td>\n",
       "      <td>STATES ATTORNEYS OFFICE</td>\n",
       "      <td>09/25/2006</td>\n",
       "      <td>68300.0</td>\n",
       "      <td>25</td>\n",
       "      <td>9</td>\n",
       "      <td>2006</td>\n",
       "    </tr>\n",
       "    <tr>\n",
       "      <th>3</th>\n",
       "      <td>Abaineh,Yohannes T</td>\n",
       "      <td>57940.000000</td>\n",
       "      <td>A65026</td>\n",
       "      <td>HLTH-HEALTH DEPARTMENT</td>\n",
       "      <td>07/23/2009</td>\n",
       "      <td>62000.0</td>\n",
       "      <td>23</td>\n",
       "      <td>7</td>\n",
       "      <td>2009</td>\n",
       "    </tr>\n",
       "    <tr>\n",
       "      <th>4</th>\n",
       "      <td>Abbene,Anthony M</td>\n",
       "      <td>44531.160494</td>\n",
       "      <td>A99416</td>\n",
       "      <td>POLICE DEPARTMENT</td>\n",
       "      <td>07/24/2013</td>\n",
       "      <td>43999.0</td>\n",
       "      <td>24</td>\n",
       "      <td>7</td>\n",
       "      <td>2013</td>\n",
       "    </tr>\n",
       "    <tr>\n",
       "      <th>...</th>\n",
       "      <td>...</td>\n",
       "      <td>...</td>\n",
       "      <td>...</td>\n",
       "      <td>...</td>\n",
       "      <td>...</td>\n",
       "      <td>...</td>\n",
       "      <td>...</td>\n",
       "      <td>...</td>\n",
       "      <td>...</td>\n",
       "    </tr>\n",
       "    <tr>\n",
       "      <th>18976</th>\n",
       "      <td>Zotamou,Jean Marie D</td>\n",
       "      <td>11313.967200</td>\n",
       "      <td>W02235</td>\n",
       "      <td>YOUTH SUMMER</td>\n",
       "      <td>05/21/2014</td>\n",
       "      <td>11310.0</td>\n",
       "      <td>21</td>\n",
       "      <td>5</td>\n",
       "      <td>2014</td>\n",
       "    </tr>\n",
       "    <tr>\n",
       "      <th>18977</th>\n",
       "      <td>Zotamou,Pivot D</td>\n",
       "      <td>11313.967200</td>\n",
       "      <td>W02629</td>\n",
       "      <td>YOUTH SUMMER</td>\n",
       "      <td>05/21/2014</td>\n",
       "      <td>11310.0</td>\n",
       "      <td>21</td>\n",
       "      <td>5</td>\n",
       "      <td>2014</td>\n",
       "    </tr>\n",
       "    <tr>\n",
       "      <th>18978</th>\n",
       "      <td>Zovistoski,Zachary D</td>\n",
       "      <td>44531.160494</td>\n",
       "      <td>A99416</td>\n",
       "      <td>POLICE DEPARTMENT</td>\n",
       "      <td>12/17/2013</td>\n",
       "      <td>43999.0</td>\n",
       "      <td>17</td>\n",
       "      <td>12</td>\n",
       "      <td>2013</td>\n",
       "    </tr>\n",
       "    <tr>\n",
       "      <th>18979</th>\n",
       "      <td>Zubyk,Stanislav T</td>\n",
       "      <td>60588.139335</td>\n",
       "      <td>A99262</td>\n",
       "      <td>POLICE DEPARTMENT</td>\n",
       "      <td>01/23/2013</td>\n",
       "      <td>44104.0</td>\n",
       "      <td>23</td>\n",
       "      <td>1</td>\n",
       "      <td>2013</td>\n",
       "    </tr>\n",
       "    <tr>\n",
       "      <th>18980</th>\n",
       "      <td>Zukowski,Charles J</td>\n",
       "      <td>53368.428571</td>\n",
       "      <td>A50206</td>\n",
       "      <td>DPW-WATER &amp; WASTE WATER</td>\n",
       "      <td>10/15/1979</td>\n",
       "      <td>53568.0</td>\n",
       "      <td>15</td>\n",
       "      <td>10</td>\n",
       "      <td>1979</td>\n",
       "    </tr>\n",
       "  </tbody>\n",
       "</table>\n",
       "<p>18895 rows × 9 columns</p>\n",
       "</div>"
      ],
      "text/plain": [
       "                       Name      JobTitle AgencyID                   Agency  \\\n",
       "0           Aaron,Keontae E  11313.967200   W02200             YOUTH SUMMER   \n",
       "1          Aaron,Patricia G  47443.500000   A03031       OED-EMPLOYMENT DEV   \n",
       "2             Aaron,Petra L  69750.666667   A29005  STATES ATTORNEYS OFFICE   \n",
       "3        Abaineh,Yohannes T  57940.000000   A65026   HLTH-HEALTH DEPARTMENT   \n",
       "4          Abbene,Anthony M  44531.160494   A99416        POLICE DEPARTMENT   \n",
       "...                     ...           ...      ...                      ...   \n",
       "18976  Zotamou,Jean Marie D  11313.967200   W02235             YOUTH SUMMER   \n",
       "18977       Zotamou,Pivot D  11313.967200   W02629             YOUTH SUMMER   \n",
       "18978  Zovistoski,Zachary D  44531.160494   A99416        POLICE DEPARTMENT   \n",
       "18979     Zubyk,Stanislav T  60588.139335   A99262        POLICE DEPARTMENT   \n",
       "18980    Zukowski,Charles J  53368.428571   A50206  DPW-WATER & WASTE WATER   \n",
       "\n",
       "         HireDate  AnnualSalary  HireDay  HireMonth  HireYear  \n",
       "0      06/10/2013       11310.0       10          6      2013  \n",
       "1      10/24/1979       53428.0       24         10      1979  \n",
       "2      09/25/2006       68300.0       25          9      2006  \n",
       "3      07/23/2009       62000.0       23          7      2009  \n",
       "4      07/24/2013       43999.0       24          7      2013  \n",
       "...           ...           ...      ...        ...       ...  \n",
       "18976  05/21/2014       11310.0       21          5      2014  \n",
       "18977  05/21/2014       11310.0       21          5      2014  \n",
       "18978  12/17/2013       43999.0       17         12      2013  \n",
       "18979  01/23/2013       44104.0       23          1      2013  \n",
       "18980  10/15/1979       53568.0       15         10      1979  \n",
       "\n",
       "[18895 rows x 9 columns]"
      ]
     },
     "execution_count": 64,
     "metadata": {},
     "output_type": "execute_result"
    }
   ],
   "source": [
    "salary_master"
   ]
  },
  {
   "cell_type": "code",
   "execution_count": 65,
   "metadata": {},
   "outputs": [
    {
     "data": {
      "text/html": [
       "<div>\n",
       "<style scoped>\n",
       "    .dataframe tbody tr th:only-of-type {\n",
       "        vertical-align: middle;\n",
       "    }\n",
       "\n",
       "    .dataframe tbody tr th {\n",
       "        vertical-align: top;\n",
       "    }\n",
       "\n",
       "    .dataframe thead th {\n",
       "        text-align: right;\n",
       "    }\n",
       "</style>\n",
       "<table border=\"1\" class=\"dataframe\">\n",
       "  <thead>\n",
       "    <tr style=\"text-align: right;\">\n",
       "      <th></th>\n",
       "      <th>Name</th>\n",
       "      <th>JobTitle</th>\n",
       "      <th>AgencyID</th>\n",
       "      <th>Agency</th>\n",
       "      <th>HireDate</th>\n",
       "      <th>AnnualSalary</th>\n",
       "      <th>HireDay</th>\n",
       "      <th>HireMonth</th>\n",
       "      <th>HireYear</th>\n",
       "    </tr>\n",
       "  </thead>\n",
       "  <tbody>\n",
       "    <tr>\n",
       "      <th>0</th>\n",
       "      <td>Aaron,Keontae E</td>\n",
       "      <td>11313.967200</td>\n",
       "      <td>W02200</td>\n",
       "      <td>11313.967200</td>\n",
       "      <td>06/10/2013</td>\n",
       "      <td>11310.0</td>\n",
       "      <td>10</td>\n",
       "      <td>6</td>\n",
       "      <td>2013</td>\n",
       "    </tr>\n",
       "    <tr>\n",
       "      <th>1</th>\n",
       "      <td>Aaron,Patricia G</td>\n",
       "      <td>47443.500000</td>\n",
       "      <td>A03031</td>\n",
       "      <td>51495.424242</td>\n",
       "      <td>10/24/1979</td>\n",
       "      <td>53428.0</td>\n",
       "      <td>24</td>\n",
       "      <td>10</td>\n",
       "      <td>1979</td>\n",
       "    </tr>\n",
       "    <tr>\n",
       "      <th>2</th>\n",
       "      <td>Aaron,Petra L</td>\n",
       "      <td>69750.666667</td>\n",
       "      <td>A29005</td>\n",
       "      <td>64874.560224</td>\n",
       "      <td>09/25/2006</td>\n",
       "      <td>68300.0</td>\n",
       "      <td>25</td>\n",
       "      <td>9</td>\n",
       "      <td>2006</td>\n",
       "    </tr>\n",
       "    <tr>\n",
       "      <th>3</th>\n",
       "      <td>Abaineh,Yohannes T</td>\n",
       "      <td>57940.000000</td>\n",
       "      <td>A65026</td>\n",
       "      <td>39980.900360</td>\n",
       "      <td>07/23/2009</td>\n",
       "      <td>62000.0</td>\n",
       "      <td>23</td>\n",
       "      <td>7</td>\n",
       "      <td>2009</td>\n",
       "    </tr>\n",
       "    <tr>\n",
       "      <th>4</th>\n",
       "      <td>Abbene,Anthony M</td>\n",
       "      <td>44531.160494</td>\n",
       "      <td>A99416</td>\n",
       "      <td>61506.879579</td>\n",
       "      <td>07/24/2013</td>\n",
       "      <td>43999.0</td>\n",
       "      <td>24</td>\n",
       "      <td>7</td>\n",
       "      <td>2013</td>\n",
       "    </tr>\n",
       "    <tr>\n",
       "      <th>...</th>\n",
       "      <td>...</td>\n",
       "      <td>...</td>\n",
       "      <td>...</td>\n",
       "      <td>...</td>\n",
       "      <td>...</td>\n",
       "      <td>...</td>\n",
       "      <td>...</td>\n",
       "      <td>...</td>\n",
       "      <td>...</td>\n",
       "    </tr>\n",
       "    <tr>\n",
       "      <th>18976</th>\n",
       "      <td>Zotamou,Jean Marie D</td>\n",
       "      <td>11313.967200</td>\n",
       "      <td>W02235</td>\n",
       "      <td>11313.967200</td>\n",
       "      <td>05/21/2014</td>\n",
       "      <td>11310.0</td>\n",
       "      <td>21</td>\n",
       "      <td>5</td>\n",
       "      <td>2014</td>\n",
       "    </tr>\n",
       "    <tr>\n",
       "      <th>18977</th>\n",
       "      <td>Zotamou,Pivot D</td>\n",
       "      <td>11313.967200</td>\n",
       "      <td>W02629</td>\n",
       "      <td>11313.967200</td>\n",
       "      <td>05/21/2014</td>\n",
       "      <td>11310.0</td>\n",
       "      <td>21</td>\n",
       "      <td>5</td>\n",
       "      <td>2014</td>\n",
       "    </tr>\n",
       "    <tr>\n",
       "      <th>18978</th>\n",
       "      <td>Zovistoski,Zachary D</td>\n",
       "      <td>44531.160494</td>\n",
       "      <td>A99416</td>\n",
       "      <td>61506.879579</td>\n",
       "      <td>12/17/2013</td>\n",
       "      <td>43999.0</td>\n",
       "      <td>17</td>\n",
       "      <td>12</td>\n",
       "      <td>2013</td>\n",
       "    </tr>\n",
       "    <tr>\n",
       "      <th>18979</th>\n",
       "      <td>Zubyk,Stanislav T</td>\n",
       "      <td>60588.139335</td>\n",
       "      <td>A99262</td>\n",
       "      <td>61506.879579</td>\n",
       "      <td>01/23/2013</td>\n",
       "      <td>44104.0</td>\n",
       "      <td>23</td>\n",
       "      <td>1</td>\n",
       "      <td>2013</td>\n",
       "    </tr>\n",
       "    <tr>\n",
       "      <th>18980</th>\n",
       "      <td>Zukowski,Charles J</td>\n",
       "      <td>53368.428571</td>\n",
       "      <td>A50206</td>\n",
       "      <td>42565.513078</td>\n",
       "      <td>10/15/1979</td>\n",
       "      <td>53568.0</td>\n",
       "      <td>15</td>\n",
       "      <td>10</td>\n",
       "      <td>1979</td>\n",
       "    </tr>\n",
       "  </tbody>\n",
       "</table>\n",
       "<p>18895 rows × 9 columns</p>\n",
       "</div>"
      ],
      "text/plain": [
       "                       Name      JobTitle AgencyID        Agency    HireDate  \\\n",
       "0           Aaron,Keontae E  11313.967200   W02200  11313.967200  06/10/2013   \n",
       "1          Aaron,Patricia G  47443.500000   A03031  51495.424242  10/24/1979   \n",
       "2             Aaron,Petra L  69750.666667   A29005  64874.560224  09/25/2006   \n",
       "3        Abaineh,Yohannes T  57940.000000   A65026  39980.900360  07/23/2009   \n",
       "4          Abbene,Anthony M  44531.160494   A99416  61506.879579  07/24/2013   \n",
       "...                     ...           ...      ...           ...         ...   \n",
       "18976  Zotamou,Jean Marie D  11313.967200   W02235  11313.967200  05/21/2014   \n",
       "18977       Zotamou,Pivot D  11313.967200   W02629  11313.967200  05/21/2014   \n",
       "18978  Zovistoski,Zachary D  44531.160494   A99416  61506.879579  12/17/2013   \n",
       "18979     Zubyk,Stanislav T  60588.139335   A99262  61506.879579  01/23/2013   \n",
       "18980    Zukowski,Charles J  53368.428571   A50206  42565.513078  10/15/1979   \n",
       "\n",
       "       AnnualSalary  HireDay  HireMonth  HireYear  \n",
       "0           11310.0       10          6      2013  \n",
       "1           53428.0       24         10      1979  \n",
       "2           68300.0       25          9      2006  \n",
       "3           62000.0       23          7      2009  \n",
       "4           43999.0       24          7      2013  \n",
       "...             ...      ...        ...       ...  \n",
       "18976       11310.0       21          5      2014  \n",
       "18977       11310.0       21          5      2014  \n",
       "18978       43999.0       17         12      2013  \n",
       "18979       44104.0       23          1      2013  \n",
       "18980       53568.0       15         10      1979  \n",
       "\n",
       "[18895 rows x 9 columns]"
      ]
     },
     "execution_count": 65,
     "metadata": {},
     "output_type": "execute_result"
    }
   ],
   "source": [
    "job_mean = salary_master.groupby(['Agency'])['AnnualSalary'].mean()\n",
    "salary_master['Agency'] = salary_master['Agency'].map(job_mean)\n",
    "salary_master"
   ]
  },
  {
   "cell_type": "code",
   "execution_count": 66,
   "metadata": {},
   "outputs": [
    {
     "data": {
      "text/html": [
       "<div>\n",
       "<style scoped>\n",
       "    .dataframe tbody tr th:only-of-type {\n",
       "        vertical-align: middle;\n",
       "    }\n",
       "\n",
       "    .dataframe tbody tr th {\n",
       "        vertical-align: top;\n",
       "    }\n",
       "\n",
       "    .dataframe thead th {\n",
       "        text-align: right;\n",
       "    }\n",
       "</style>\n",
       "<table border=\"1\" class=\"dataframe\">\n",
       "  <thead>\n",
       "    <tr style=\"text-align: right;\">\n",
       "      <th></th>\n",
       "      <th>Name</th>\n",
       "      <th>JobTitle</th>\n",
       "      <th>AgencyID</th>\n",
       "      <th>Agency</th>\n",
       "      <th>HireDate</th>\n",
       "      <th>AnnualSalary</th>\n",
       "      <th>HireDay</th>\n",
       "      <th>HireMonth</th>\n",
       "      <th>HireYear</th>\n",
       "    </tr>\n",
       "  </thead>\n",
       "  <tbody>\n",
       "    <tr>\n",
       "      <th>0</th>\n",
       "      <td>Aaron,Keontae E</td>\n",
       "      <td>11313.967200</td>\n",
       "      <td>11310.000000</td>\n",
       "      <td>11313.967200</td>\n",
       "      <td>06/10/2013</td>\n",
       "      <td>11310.0</td>\n",
       "      <td>10</td>\n",
       "      <td>6</td>\n",
       "      <td>2013</td>\n",
       "    </tr>\n",
       "    <tr>\n",
       "      <th>1</th>\n",
       "      <td>Aaron,Patricia G</td>\n",
       "      <td>47443.500000</td>\n",
       "      <td>46667.000000</td>\n",
       "      <td>51495.424242</td>\n",
       "      <td>10/24/1979</td>\n",
       "      <td>53428.0</td>\n",
       "      <td>24</td>\n",
       "      <td>10</td>\n",
       "      <td>1979</td>\n",
       "    </tr>\n",
       "    <tr>\n",
       "      <th>2</th>\n",
       "      <td>Aaron,Petra L</td>\n",
       "      <td>69750.666667</td>\n",
       "      <td>65926.133333</td>\n",
       "      <td>64874.560224</td>\n",
       "      <td>09/25/2006</td>\n",
       "      <td>68300.0</td>\n",
       "      <td>25</td>\n",
       "      <td>9</td>\n",
       "      <td>2006</td>\n",
       "    </tr>\n",
       "    <tr>\n",
       "      <th>3</th>\n",
       "      <td>Abaineh,Yohannes T</td>\n",
       "      <td>57940.000000</td>\n",
       "      <td>48071.851064</td>\n",
       "      <td>39980.900360</td>\n",
       "      <td>07/23/2009</td>\n",
       "      <td>62000.0</td>\n",
       "      <td>23</td>\n",
       "      <td>7</td>\n",
       "      <td>2009</td>\n",
       "    </tr>\n",
       "    <tr>\n",
       "      <th>4</th>\n",
       "      <td>Abbene,Anthony M</td>\n",
       "      <td>44531.160494</td>\n",
       "      <td>44012.307229</td>\n",
       "      <td>61506.879579</td>\n",
       "      <td>07/24/2013</td>\n",
       "      <td>43999.0</td>\n",
       "      <td>24</td>\n",
       "      <td>7</td>\n",
       "      <td>2013</td>\n",
       "    </tr>\n",
       "    <tr>\n",
       "      <th>...</th>\n",
       "      <td>...</td>\n",
       "      <td>...</td>\n",
       "      <td>...</td>\n",
       "      <td>...</td>\n",
       "      <td>...</td>\n",
       "      <td>...</td>\n",
       "      <td>...</td>\n",
       "      <td>...</td>\n",
       "      <td>...</td>\n",
       "    </tr>\n",
       "    <tr>\n",
       "      <th>18976</th>\n",
       "      <td>Zotamou,Jean Marie D</td>\n",
       "      <td>11313.967200</td>\n",
       "      <td>11310.000000</td>\n",
       "      <td>11313.967200</td>\n",
       "      <td>05/21/2014</td>\n",
       "      <td>11310.0</td>\n",
       "      <td>21</td>\n",
       "      <td>5</td>\n",
       "      <td>2014</td>\n",
       "    </tr>\n",
       "    <tr>\n",
       "      <th>18977</th>\n",
       "      <td>Zotamou,Pivot D</td>\n",
       "      <td>11313.967200</td>\n",
       "      <td>11310.000000</td>\n",
       "      <td>11313.967200</td>\n",
       "      <td>05/21/2014</td>\n",
       "      <td>11310.0</td>\n",
       "      <td>21</td>\n",
       "      <td>5</td>\n",
       "      <td>2014</td>\n",
       "    </tr>\n",
       "    <tr>\n",
       "      <th>18978</th>\n",
       "      <td>Zovistoski,Zachary D</td>\n",
       "      <td>44531.160494</td>\n",
       "      <td>44012.307229</td>\n",
       "      <td>61506.879579</td>\n",
       "      <td>12/17/2013</td>\n",
       "      <td>43999.0</td>\n",
       "      <td>17</td>\n",
       "      <td>12</td>\n",
       "      <td>2013</td>\n",
       "    </tr>\n",
       "    <tr>\n",
       "      <th>18979</th>\n",
       "      <td>Zubyk,Stanislav T</td>\n",
       "      <td>60588.139335</td>\n",
       "      <td>60203.340426</td>\n",
       "      <td>61506.879579</td>\n",
       "      <td>01/23/2013</td>\n",
       "      <td>44104.0</td>\n",
       "      <td>23</td>\n",
       "      <td>1</td>\n",
       "      <td>2013</td>\n",
       "    </tr>\n",
       "    <tr>\n",
       "      <th>18980</th>\n",
       "      <td>Zukowski,Charles J</td>\n",
       "      <td>53368.428571</td>\n",
       "      <td>42407.562500</td>\n",
       "      <td>42565.513078</td>\n",
       "      <td>10/15/1979</td>\n",
       "      <td>53568.0</td>\n",
       "      <td>15</td>\n",
       "      <td>10</td>\n",
       "      <td>1979</td>\n",
       "    </tr>\n",
       "  </tbody>\n",
       "</table>\n",
       "<p>18895 rows × 9 columns</p>\n",
       "</div>"
      ],
      "text/plain": [
       "                       Name      JobTitle      AgencyID        Agency  \\\n",
       "0           Aaron,Keontae E  11313.967200  11310.000000  11313.967200   \n",
       "1          Aaron,Patricia G  47443.500000  46667.000000  51495.424242   \n",
       "2             Aaron,Petra L  69750.666667  65926.133333  64874.560224   \n",
       "3        Abaineh,Yohannes T  57940.000000  48071.851064  39980.900360   \n",
       "4          Abbene,Anthony M  44531.160494  44012.307229  61506.879579   \n",
       "...                     ...           ...           ...           ...   \n",
       "18976  Zotamou,Jean Marie D  11313.967200  11310.000000  11313.967200   \n",
       "18977       Zotamou,Pivot D  11313.967200  11310.000000  11313.967200   \n",
       "18978  Zovistoski,Zachary D  44531.160494  44012.307229  61506.879579   \n",
       "18979     Zubyk,Stanislav T  60588.139335  60203.340426  61506.879579   \n",
       "18980    Zukowski,Charles J  53368.428571  42407.562500  42565.513078   \n",
       "\n",
       "         HireDate  AnnualSalary  HireDay  HireMonth  HireYear  \n",
       "0      06/10/2013       11310.0       10          6      2013  \n",
       "1      10/24/1979       53428.0       24         10      1979  \n",
       "2      09/25/2006       68300.0       25          9      2006  \n",
       "3      07/23/2009       62000.0       23          7      2009  \n",
       "4      07/24/2013       43999.0       24          7      2013  \n",
       "...           ...           ...      ...        ...       ...  \n",
       "18976  05/21/2014       11310.0       21          5      2014  \n",
       "18977  05/21/2014       11310.0       21          5      2014  \n",
       "18978  12/17/2013       43999.0       17         12      2013  \n",
       "18979  01/23/2013       44104.0       23          1      2013  \n",
       "18980  10/15/1979       53568.0       15         10      1979  \n",
       "\n",
       "[18895 rows x 9 columns]"
      ]
     },
     "execution_count": 66,
     "metadata": {},
     "output_type": "execute_result"
    }
   ],
   "source": [
    "job_mean = salary_master.groupby(['AgencyID'])['AnnualSalary'].mean()\n",
    "salary_master['AgencyID'] = salary_master['AgencyID'].map(job_mean)\n",
    "salary_master"
   ]
  },
  {
   "cell_type": "code",
   "execution_count": 67,
   "metadata": {},
   "outputs": [],
   "source": [
    "#if the name is this or hiredate is this we can't say the salary predictions\n",
    "#therefore we can drop these columns"
   ]
  },
  {
   "cell_type": "code",
   "execution_count": 68,
   "metadata": {},
   "outputs": [
    {
     "name": "stdout",
     "output_type": "stream",
     "text": [
      "<class 'pandas.core.frame.DataFrame'>\n",
      "Int64Index: 18895 entries, 0 to 18980\n",
      "Data columns (total 9 columns):\n",
      " #   Column        Non-Null Count  Dtype  \n",
      "---  ------        --------------  -----  \n",
      " 0   Name          18895 non-null  object \n",
      " 1   JobTitle      18895 non-null  float64\n",
      " 2   AgencyID      18895 non-null  float64\n",
      " 3   Agency        18895 non-null  float64\n",
      " 4   HireDate      18895 non-null  object \n",
      " 5   AnnualSalary  18895 non-null  float64\n",
      " 6   HireDay       18895 non-null  int64  \n",
      " 7   HireMonth     18895 non-null  int64  \n",
      " 8   HireYear      18895 non-null  int64  \n",
      "dtypes: float64(4), int64(3), object(2)\n",
      "memory usage: 1.4+ MB\n"
     ]
    }
   ],
   "source": [
    "salary_master.info()"
   ]
  },
  {
   "cell_type": "code",
   "execution_count": 69,
   "metadata": {},
   "outputs": [],
   "source": [
    "salary_master=salary_master.drop(['Name','HireDate'],axis=1)"
   ]
  },
  {
   "cell_type": "code",
   "execution_count": 70,
   "metadata": {},
   "outputs": [
    {
     "data": {
      "text/html": [
       "<div>\n",
       "<style scoped>\n",
       "    .dataframe tbody tr th:only-of-type {\n",
       "        vertical-align: middle;\n",
       "    }\n",
       "\n",
       "    .dataframe tbody tr th {\n",
       "        vertical-align: top;\n",
       "    }\n",
       "\n",
       "    .dataframe thead th {\n",
       "        text-align: right;\n",
       "    }\n",
       "</style>\n",
       "<table border=\"1\" class=\"dataframe\">\n",
       "  <thead>\n",
       "    <tr style=\"text-align: right;\">\n",
       "      <th></th>\n",
       "      <th>JobTitle</th>\n",
       "      <th>AgencyID</th>\n",
       "      <th>Agency</th>\n",
       "      <th>AnnualSalary</th>\n",
       "      <th>HireDay</th>\n",
       "      <th>HireMonth</th>\n",
       "      <th>HireYear</th>\n",
       "    </tr>\n",
       "  </thead>\n",
       "  <tbody>\n",
       "    <tr>\n",
       "      <th>count</th>\n",
       "      <td>18895.000000</td>\n",
       "      <td>18895.000000</td>\n",
       "      <td>18895.000000</td>\n",
       "      <td>18895.000000</td>\n",
       "      <td>18895.000000</td>\n",
       "      <td>18895.000000</td>\n",
       "      <td>18895.000000</td>\n",
       "    </tr>\n",
       "    <tr>\n",
       "      <th>mean</th>\n",
       "      <td>39547.805099</td>\n",
       "      <td>39547.805099</td>\n",
       "      <td>39547.805099</td>\n",
       "      <td>39547.805099</td>\n",
       "      <td>15.764806</td>\n",
       "      <td>6.369675</td>\n",
       "      <td>2004.078328</td>\n",
       "    </tr>\n",
       "    <tr>\n",
       "      <th>std</th>\n",
       "      <td>24334.836706</td>\n",
       "      <td>22262.883593</td>\n",
       "      <td>20995.823011</td>\n",
       "      <td>24865.587864</td>\n",
       "      <td>8.386260</td>\n",
       "      <td>2.948706</td>\n",
       "      <td>10.391949</td>\n",
       "    </tr>\n",
       "    <tr>\n",
       "      <th>min</th>\n",
       "      <td>2000.000000</td>\n",
       "      <td>2000.000000</td>\n",
       "      <td>10234.535294</td>\n",
       "      <td>0.000000</td>\n",
       "      <td>1.000000</td>\n",
       "      <td>1.000000</td>\n",
       "      <td>1952.000000</td>\n",
       "    </tr>\n",
       "    <tr>\n",
       "      <th>25%</th>\n",
       "      <td>11313.967200</td>\n",
       "      <td>11310.000000</td>\n",
       "      <td>11313.967200</td>\n",
       "      <td>11310.000000</td>\n",
       "      <td>9.000000</td>\n",
       "      <td>5.000000</td>\n",
       "      <td>1998.000000</td>\n",
       "    </tr>\n",
       "    <tr>\n",
       "      <th>50%</th>\n",
       "      <td>36021.633333</td>\n",
       "      <td>41508.800000</td>\n",
       "      <td>42565.513078</td>\n",
       "      <td>36203.000000</td>\n",
       "      <td>16.000000</td>\n",
       "      <td>6.000000</td>\n",
       "      <td>2007.000000</td>\n",
       "    </tr>\n",
       "    <tr>\n",
       "      <th>75%</th>\n",
       "      <td>60588.139335</td>\n",
       "      <td>59711.333333</td>\n",
       "      <td>61506.879579</td>\n",
       "      <td>60300.000000</td>\n",
       "      <td>22.000000</td>\n",
       "      <td>8.000000</td>\n",
       "      <td>2013.000000</td>\n",
       "    </tr>\n",
       "    <tr>\n",
       "      <th>max</th>\n",
       "      <td>140885.000000</td>\n",
       "      <td>142700.000000</td>\n",
       "      <td>86492.300000</td>\n",
       "      <td>148200.000000</td>\n",
       "      <td>31.000000</td>\n",
       "      <td>12.000000</td>\n",
       "      <td>2014.000000</td>\n",
       "    </tr>\n",
       "  </tbody>\n",
       "</table>\n",
       "</div>"
      ],
      "text/plain": [
       "            JobTitle       AgencyID        Agency   AnnualSalary  \\\n",
       "count   18895.000000   18895.000000  18895.000000   18895.000000   \n",
       "mean    39547.805099   39547.805099  39547.805099   39547.805099   \n",
       "std     24334.836706   22262.883593  20995.823011   24865.587864   \n",
       "min      2000.000000    2000.000000  10234.535294       0.000000   \n",
       "25%     11313.967200   11310.000000  11313.967200   11310.000000   \n",
       "50%     36021.633333   41508.800000  42565.513078   36203.000000   \n",
       "75%     60588.139335   59711.333333  61506.879579   60300.000000   \n",
       "max    140885.000000  142700.000000  86492.300000  148200.000000   \n",
       "\n",
       "            HireDay     HireMonth      HireYear  \n",
       "count  18895.000000  18895.000000  18895.000000  \n",
       "mean      15.764806      6.369675   2004.078328  \n",
       "std        8.386260      2.948706     10.391949  \n",
       "min        1.000000      1.000000   1952.000000  \n",
       "25%        9.000000      5.000000   1998.000000  \n",
       "50%       16.000000      6.000000   2007.000000  \n",
       "75%       22.000000      8.000000   2013.000000  \n",
       "max       31.000000     12.000000   2014.000000  "
      ]
     },
     "execution_count": 70,
     "metadata": {},
     "output_type": "execute_result"
    }
   ],
   "source": [
    "salary_master.describe()"
   ]
  },
  {
   "cell_type": "markdown",
   "metadata": {},
   "source": [
    "# Train Test split"
   ]
  },
  {
   "cell_type": "code",
   "execution_count": 71,
   "metadata": {},
   "outputs": [],
   "source": [
    "salary_train,salary_test = train_test_split(salary_master,train_size=0.7,random_state=10)"
   ]
  },
  {
   "cell_type": "code",
   "execution_count": 72,
   "metadata": {},
   "outputs": [
    {
     "data": {
      "text/plain": [
       "(13226, 7)"
      ]
     },
     "execution_count": 72,
     "metadata": {},
     "output_type": "execute_result"
    }
   ],
   "source": [
    "salary_train.shape"
   ]
  },
  {
   "cell_type": "code",
   "execution_count": 73,
   "metadata": {},
   "outputs": [
    {
     "data": {
      "text/plain": [
       "(5669, 7)"
      ]
     },
     "execution_count": 73,
     "metadata": {},
     "output_type": "execute_result"
    }
   ],
   "source": [
    "salary_test.shape"
   ]
  },
  {
   "cell_type": "code",
   "execution_count": 74,
   "metadata": {},
   "outputs": [],
   "source": [
    "#dividing train set into dependent and independent variables\n",
    "y_train = salary_train.pop('AnnualSalary')\n",
    "x_train = salary_train"
   ]
  },
  {
   "cell_type": "code",
   "execution_count": 75,
   "metadata": {},
   "outputs": [],
   "source": [
    "#divinding test set into dependent and independent variables\n",
    "y_test = salary_master.pop('AnnualSalary')\n",
    "x_test =salary_master"
   ]
  },
  {
   "cell_type": "code",
   "execution_count": 76,
   "metadata": {},
   "outputs": [
    {
     "data": {
      "text/html": [
       "<div>\n",
       "<style scoped>\n",
       "    .dataframe tbody tr th:only-of-type {\n",
       "        vertical-align: middle;\n",
       "    }\n",
       "\n",
       "    .dataframe tbody tr th {\n",
       "        vertical-align: top;\n",
       "    }\n",
       "\n",
       "    .dataframe thead th {\n",
       "        text-align: right;\n",
       "    }\n",
       "</style>\n",
       "<table border=\"1\" class=\"dataframe\">\n",
       "  <thead>\n",
       "    <tr style=\"text-align: right;\">\n",
       "      <th></th>\n",
       "      <th>JobTitle</th>\n",
       "      <th>AgencyID</th>\n",
       "      <th>Agency</th>\n",
       "      <th>HireDay</th>\n",
       "      <th>HireMonth</th>\n",
       "      <th>HireYear</th>\n",
       "    </tr>\n",
       "  </thead>\n",
       "  <tbody>\n",
       "    <tr>\n",
       "      <th>18885</th>\n",
       "      <td>29925.666667</td>\n",
       "      <td>30453.823529</td>\n",
       "      <td>31594.490526</td>\n",
       "      <td>1</td>\n",
       "      <td>11</td>\n",
       "      <td>2006</td>\n",
       "    </tr>\n",
       "    <tr>\n",
       "      <th>9334</th>\n",
       "      <td>70175.000000</td>\n",
       "      <td>56042.647059</td>\n",
       "      <td>42565.513078</td>\n",
       "      <td>16</td>\n",
       "      <td>7</td>\n",
       "      <td>1979</td>\n",
       "    </tr>\n",
       "    <tr>\n",
       "      <th>12385</th>\n",
       "      <td>23309.565217</td>\n",
       "      <td>22019.629747</td>\n",
       "      <td>21236.522682</td>\n",
       "      <td>19</td>\n",
       "      <td>6</td>\n",
       "      <td>2014</td>\n",
       "    </tr>\n",
       "    <tr>\n",
       "      <th>6334</th>\n",
       "      <td>11522.106952</td>\n",
       "      <td>10272.043478</td>\n",
       "      <td>10234.535294</td>\n",
       "      <td>27</td>\n",
       "      <td>12</td>\n",
       "      <td>2007</td>\n",
       "    </tr>\n",
       "    <tr>\n",
       "      <th>2226</th>\n",
       "      <td>11313.967200</td>\n",
       "      <td>11310.000000</td>\n",
       "      <td>11313.967200</td>\n",
       "      <td>1</td>\n",
       "      <td>6</td>\n",
       "      <td>2014</td>\n",
       "    </tr>\n",
       "    <tr>\n",
       "      <th>...</th>\n",
       "      <td>...</td>\n",
       "      <td>...</td>\n",
       "      <td>...</td>\n",
       "      <td>...</td>\n",
       "      <td>...</td>\n",
       "      <td>...</td>\n",
       "    </tr>\n",
       "    <tr>\n",
       "      <th>9450</th>\n",
       "      <td>31608.603175</td>\n",
       "      <td>30675.719298</td>\n",
       "      <td>31594.490526</td>\n",
       "      <td>2</td>\n",
       "      <td>4</td>\n",
       "      <td>2012</td>\n",
       "    </tr>\n",
       "    <tr>\n",
       "      <th>7368</th>\n",
       "      <td>11313.967200</td>\n",
       "      <td>11310.000000</td>\n",
       "      <td>11313.967200</td>\n",
       "      <td>29</td>\n",
       "      <td>5</td>\n",
       "      <td>2014</td>\n",
       "    </tr>\n",
       "    <tr>\n",
       "      <th>17812</th>\n",
       "      <td>11313.967200</td>\n",
       "      <td>11310.000000</td>\n",
       "      <td>11313.967200</td>\n",
       "      <td>10</td>\n",
       "      <td>6</td>\n",
       "      <td>2013</td>\n",
       "    </tr>\n",
       "    <tr>\n",
       "      <th>7370</th>\n",
       "      <td>34301.866667</td>\n",
       "      <td>41730.721519</td>\n",
       "      <td>45763.305913</td>\n",
       "      <td>3</td>\n",
       "      <td>6</td>\n",
       "      <td>2004</td>\n",
       "    </tr>\n",
       "    <tr>\n",
       "      <th>17757</th>\n",
       "      <td>54711.654545</td>\n",
       "      <td>73608.226667</td>\n",
       "      <td>71933.871560</td>\n",
       "      <td>10</td>\n",
       "      <td>2</td>\n",
       "      <td>2014</td>\n",
       "    </tr>\n",
       "  </tbody>\n",
       "</table>\n",
       "<p>13226 rows × 6 columns</p>\n",
       "</div>"
      ],
      "text/plain": [
       "           JobTitle      AgencyID        Agency  HireDay  HireMonth  HireYear\n",
       "18885  29925.666667  30453.823529  31594.490526        1         11      2006\n",
       "9334   70175.000000  56042.647059  42565.513078       16          7      1979\n",
       "12385  23309.565217  22019.629747  21236.522682       19          6      2014\n",
       "6334   11522.106952  10272.043478  10234.535294       27         12      2007\n",
       "2226   11313.967200  11310.000000  11313.967200        1          6      2014\n",
       "...             ...           ...           ...      ...        ...       ...\n",
       "9450   31608.603175  30675.719298  31594.490526        2          4      2012\n",
       "7368   11313.967200  11310.000000  11313.967200       29          5      2014\n",
       "17812  11313.967200  11310.000000  11313.967200       10          6      2013\n",
       "7370   34301.866667  41730.721519  45763.305913        3          6      2004\n",
       "17757  54711.654545  73608.226667  71933.871560       10          2      2014\n",
       "\n",
       "[13226 rows x 6 columns]"
      ]
     },
     "execution_count": 76,
     "metadata": {},
     "output_type": "execute_result"
    }
   ],
   "source": [
    "x_train"
   ]
  },
  {
   "cell_type": "code",
   "execution_count": 77,
   "metadata": {},
   "outputs": [],
   "source": [
    "x_train = pd.DataFrame(x_train,columns=['JobTitle','AgencyID','Agency','HireDay','HireMonth','HireYear'])"
   ]
  },
  {
   "cell_type": "markdown",
   "metadata": {},
   "source": [
    "# Feature Scaling"
   ]
  },
  {
   "cell_type": "code",
   "execution_count": 78,
   "metadata": {},
   "outputs": [],
   "source": [
    "#machine can't understand the values as this is month,this is day sy=uch that it can only see the numerical value\n"
   ]
  },
  {
   "cell_type": "markdown",
   "metadata": {},
   "source": [
    "# standrdization"
   ]
  },
  {
   "cell_type": "code",
   "execution_count": 79,
   "metadata": {},
   "outputs": [
    {
     "data": {
      "text/html": [
       "<div>\n",
       "<style scoped>\n",
       "    .dataframe tbody tr th:only-of-type {\n",
       "        vertical-align: middle;\n",
       "    }\n",
       "\n",
       "    .dataframe tbody tr th {\n",
       "        vertical-align: top;\n",
       "    }\n",
       "\n",
       "    .dataframe thead th {\n",
       "        text-align: right;\n",
       "    }\n",
       "</style>\n",
       "<table border=\"1\" class=\"dataframe\">\n",
       "  <thead>\n",
       "    <tr style=\"text-align: right;\">\n",
       "      <th></th>\n",
       "      <th>JobTitle</th>\n",
       "      <th>AgencyID</th>\n",
       "      <th>Agency</th>\n",
       "      <th>HireDay</th>\n",
       "      <th>HireMonth</th>\n",
       "      <th>HireYear</th>\n",
       "    </tr>\n",
       "  </thead>\n",
       "  <tbody>\n",
       "    <tr>\n",
       "      <th>count</th>\n",
       "      <td>1.322600e+04</td>\n",
       "      <td>1.322600e+04</td>\n",
       "      <td>1.322600e+04</td>\n",
       "      <td>1.322600e+04</td>\n",
       "      <td>1.322600e+04</td>\n",
       "      <td>1.322600e+04</td>\n",
       "    </tr>\n",
       "    <tr>\n",
       "      <th>mean</th>\n",
       "      <td>1.882746e-16</td>\n",
       "      <td>3.670636e-16</td>\n",
       "      <td>5.224579e-17</td>\n",
       "      <td>-1.118701e-16</td>\n",
       "      <td>5.373997e-17</td>\n",
       "      <td>2.903519e-15</td>\n",
       "    </tr>\n",
       "    <tr>\n",
       "      <th>std</th>\n",
       "      <td>1.000038e+00</td>\n",
       "      <td>1.000038e+00</td>\n",
       "      <td>1.000038e+00</td>\n",
       "      <td>1.000038e+00</td>\n",
       "      <td>1.000038e+00</td>\n",
       "      <td>1.000038e+00</td>\n",
       "    </tr>\n",
       "    <tr>\n",
       "      <th>min</th>\n",
       "      <td>-1.538203e+00</td>\n",
       "      <td>-1.680585e+00</td>\n",
       "      <td>-1.389422e+00</td>\n",
       "      <td>-1.760397e+00</td>\n",
       "      <td>-1.817891e+00</td>\n",
       "      <td>-4.132876e+00</td>\n",
       "    </tr>\n",
       "    <tr>\n",
       "      <th>25%</th>\n",
       "      <td>-1.156127e+00</td>\n",
       "      <td>-1.263457e+00</td>\n",
       "      <td>-1.338114e+00</td>\n",
       "      <td>-8.023521e-01</td>\n",
       "      <td>-4.598122e-01</td>\n",
       "      <td>-5.823428e-01</td>\n",
       "    </tr>\n",
       "    <tr>\n",
       "      <th>50%</th>\n",
       "      <td>-1.449814e-01</td>\n",
       "      <td>8.818958e-02</td>\n",
       "      <td>1.473413e-01</td>\n",
       "      <td>3.593756e-02</td>\n",
       "      <td>-1.202925e-01</td>\n",
       "      <td>2.813004e-01</td>\n",
       "    </tr>\n",
       "    <tr>\n",
       "      <th>75%</th>\n",
       "      <td>8.651930e-01</td>\n",
       "      <td>9.053854e-01</td>\n",
       "      <td>1.047667e+00</td>\n",
       "      <td>7.544715e-01</td>\n",
       "      <td>5.587467e-01</td>\n",
       "      <td>8.570625e-01</td>\n",
       "    </tr>\n",
       "    <tr>\n",
       "      <th>max</th>\n",
       "      <td>4.159122e+00</td>\n",
       "      <td>4.623381e+00</td>\n",
       "      <td>2.235280e+00</td>\n",
       "      <td>1.832273e+00</td>\n",
       "      <td>1.916825e+00</td>\n",
       "      <td>9.530229e-01</td>\n",
       "    </tr>\n",
       "  </tbody>\n",
       "</table>\n",
       "</div>"
      ],
      "text/plain": [
       "           JobTitle      AgencyID        Agency       HireDay     HireMonth  \\\n",
       "count  1.322600e+04  1.322600e+04  1.322600e+04  1.322600e+04  1.322600e+04   \n",
       "mean   1.882746e-16  3.670636e-16  5.224579e-17 -1.118701e-16  5.373997e-17   \n",
       "std    1.000038e+00  1.000038e+00  1.000038e+00  1.000038e+00  1.000038e+00   \n",
       "min   -1.538203e+00 -1.680585e+00 -1.389422e+00 -1.760397e+00 -1.817891e+00   \n",
       "25%   -1.156127e+00 -1.263457e+00 -1.338114e+00 -8.023521e-01 -4.598122e-01   \n",
       "50%   -1.449814e-01  8.818958e-02  1.473413e-01  3.593756e-02 -1.202925e-01   \n",
       "75%    8.651930e-01  9.053854e-01  1.047667e+00  7.544715e-01  5.587467e-01   \n",
       "max    4.159122e+00  4.623381e+00  2.235280e+00  1.832273e+00  1.916825e+00   \n",
       "\n",
       "           HireYear  \n",
       "count  1.322600e+04  \n",
       "mean   2.903519e-15  \n",
       "std    1.000038e+00  \n",
       "min   -4.132876e+00  \n",
       "25%   -5.823428e-01  \n",
       "50%    2.813004e-01  \n",
       "75%    8.570625e-01  \n",
       "max    9.530229e-01  "
      ]
     },
     "execution_count": 79,
     "metadata": {},
     "output_type": "execute_result"
    }
   ],
   "source": [
    "scaler = StandardScaler()\n",
    "x_train[x_train.columns] = scaler.fit_transform(x_train[x_train.columns])\n",
    "x_train.describe()"
   ]
  },
  {
   "cell_type": "code",
   "execution_count": 80,
   "metadata": {},
   "outputs": [
    {
     "data": {
      "text/plain": [
       "JobTitle     1.882746e-16\n",
       "AgencyID     3.670636e-16\n",
       "Agency       5.224579e-17\n",
       "HireDay     -1.118701e-16\n",
       "HireMonth    5.373997e-17\n",
       "HireYear     2.903519e-15\n",
       "dtype: float64"
      ]
     },
     "execution_count": 80,
     "metadata": {},
     "output_type": "execute_result"
    }
   ],
   "source": [
    "x_train.mean()"
   ]
  },
  {
   "cell_type": "code",
   "execution_count": 81,
   "metadata": {},
   "outputs": [
    {
     "data": {
      "text/plain": [
       "JobTitle     1.000038\n",
       "AgencyID     1.000038\n",
       "Agency       1.000038\n",
       "HireDay      1.000038\n",
       "HireMonth    1.000038\n",
       "HireYear     1.000038\n",
       "dtype: float64"
      ]
     },
     "execution_count": 81,
     "metadata": {},
     "output_type": "execute_result"
    }
   ],
   "source": [
    "x_train.std()"
   ]
  },
  {
   "cell_type": "code",
   "execution_count": 82,
   "metadata": {},
   "outputs": [
    {
     "data": {
      "text/html": [
       "<div>\n",
       "<style scoped>\n",
       "    .dataframe tbody tr th:only-of-type {\n",
       "        vertical-align: middle;\n",
       "    }\n",
       "\n",
       "    .dataframe tbody tr th {\n",
       "        vertical-align: top;\n",
       "    }\n",
       "\n",
       "    .dataframe thead th {\n",
       "        text-align: right;\n",
       "    }\n",
       "</style>\n",
       "<table border=\"1\" class=\"dataframe\">\n",
       "  <thead>\n",
       "    <tr style=\"text-align: right;\">\n",
       "      <th></th>\n",
       "      <th>JobTitle</th>\n",
       "      <th>AgencyID</th>\n",
       "      <th>Agency</th>\n",
       "      <th>HireDay</th>\n",
       "      <th>HireMonth</th>\n",
       "      <th>HireYear</th>\n",
       "    </tr>\n",
       "  </thead>\n",
       "  <tbody>\n",
       "    <tr>\n",
       "      <th>18885</th>\n",
       "      <td>-0.392640</td>\n",
       "      <td>-0.405731</td>\n",
       "      <td>-0.374136</td>\n",
       "      <td>-1.760397</td>\n",
       "      <td>1.577306</td>\n",
       "      <td>0.185340</td>\n",
       "    </tr>\n",
       "    <tr>\n",
       "      <th>9334</th>\n",
       "      <td>1.258464</td>\n",
       "      <td>0.740759</td>\n",
       "      <td>0.147341</td>\n",
       "      <td>0.035938</td>\n",
       "      <td>0.219227</td>\n",
       "      <td>-2.405590</td>\n",
       "    </tr>\n",
       "    <tr>\n",
       "      <th>12385</th>\n",
       "      <td>-0.664045</td>\n",
       "      <td>-0.783619</td>\n",
       "      <td>-0.866473</td>\n",
       "      <td>0.395205</td>\n",
       "      <td>-0.120293</td>\n",
       "      <td>0.953023</td>\n",
       "    </tr>\n",
       "    <tr>\n",
       "      <th>6334</th>\n",
       "      <td>-1.147588</td>\n",
       "      <td>-1.309962</td>\n",
       "      <td>-1.389422</td>\n",
       "      <td>1.353250</td>\n",
       "      <td>1.916825</td>\n",
       "      <td>0.281300</td>\n",
       "    </tr>\n",
       "    <tr>\n",
       "      <th>2226</th>\n",
       "      <td>-1.156127</td>\n",
       "      <td>-1.263457</td>\n",
       "      <td>-1.338114</td>\n",
       "      <td>-1.760397</td>\n",
       "      <td>-0.120293</td>\n",
       "      <td>0.953023</td>\n",
       "    </tr>\n",
       "    <tr>\n",
       "      <th>...</th>\n",
       "      <td>...</td>\n",
       "      <td>...</td>\n",
       "      <td>...</td>\n",
       "      <td>...</td>\n",
       "      <td>...</td>\n",
       "      <td>...</td>\n",
       "    </tr>\n",
       "    <tr>\n",
       "      <th>9450</th>\n",
       "      <td>-0.323602</td>\n",
       "      <td>-0.395789</td>\n",
       "      <td>-0.374136</td>\n",
       "      <td>-1.640642</td>\n",
       "      <td>-0.799332</td>\n",
       "      <td>0.761102</td>\n",
       "    </tr>\n",
       "    <tr>\n",
       "      <th>7368</th>\n",
       "      <td>-1.156127</td>\n",
       "      <td>-1.263457</td>\n",
       "      <td>-1.338114</td>\n",
       "      <td>1.592761</td>\n",
       "      <td>-0.459812</td>\n",
       "      <td>0.953023</td>\n",
       "    </tr>\n",
       "    <tr>\n",
       "      <th>17812</th>\n",
       "      <td>-1.156127</td>\n",
       "      <td>-1.263457</td>\n",
       "      <td>-1.338114</td>\n",
       "      <td>-0.682596</td>\n",
       "      <td>-0.120293</td>\n",
       "      <td>0.857063</td>\n",
       "    </tr>\n",
       "    <tr>\n",
       "      <th>7370</th>\n",
       "      <td>-0.213120</td>\n",
       "      <td>0.099523</td>\n",
       "      <td>0.299340</td>\n",
       "      <td>-1.520886</td>\n",
       "      <td>-0.120293</td>\n",
       "      <td>-0.006581</td>\n",
       "    </tr>\n",
       "    <tr>\n",
       "      <th>17757</th>\n",
       "      <td>0.624128</td>\n",
       "      <td>1.527772</td>\n",
       "      <td>1.543285</td>\n",
       "      <td>-0.682596</td>\n",
       "      <td>-1.478371</td>\n",
       "      <td>0.953023</td>\n",
       "    </tr>\n",
       "  </tbody>\n",
       "</table>\n",
       "<p>13226 rows × 6 columns</p>\n",
       "</div>"
      ],
      "text/plain": [
       "       JobTitle  AgencyID    Agency   HireDay  HireMonth  HireYear\n",
       "18885 -0.392640 -0.405731 -0.374136 -1.760397   1.577306  0.185340\n",
       "9334   1.258464  0.740759  0.147341  0.035938   0.219227 -2.405590\n",
       "12385 -0.664045 -0.783619 -0.866473  0.395205  -0.120293  0.953023\n",
       "6334  -1.147588 -1.309962 -1.389422  1.353250   1.916825  0.281300\n",
       "2226  -1.156127 -1.263457 -1.338114 -1.760397  -0.120293  0.953023\n",
       "...         ...       ...       ...       ...        ...       ...\n",
       "9450  -0.323602 -0.395789 -0.374136 -1.640642  -0.799332  0.761102\n",
       "7368  -1.156127 -1.263457 -1.338114  1.592761  -0.459812  0.953023\n",
       "17812 -1.156127 -1.263457 -1.338114 -0.682596  -0.120293  0.857063\n",
       "7370  -0.213120  0.099523  0.299340 -1.520886  -0.120293 -0.006581\n",
       "17757  0.624128  1.527772  1.543285 -0.682596  -1.478371  0.953023\n",
       "\n",
       "[13226 rows x 6 columns]"
      ]
     },
     "execution_count": 82,
     "metadata": {},
     "output_type": "execute_result"
    }
   ],
   "source": [
    "x_train"
   ]
  },
  {
   "cell_type": "code",
   "execution_count": 83,
   "metadata": {},
   "outputs": [
    {
     "data": {
      "text/plain": [
       "JobTitle     1.882746e-16\n",
       "AgencyID     3.670636e-16\n",
       "Agency       5.224579e-17\n",
       "HireDay     -1.118701e-16\n",
       "HireMonth    5.373997e-17\n",
       "HireYear     2.903519e-15\n",
       "dtype: float64"
      ]
     },
     "execution_count": 83,
     "metadata": {},
     "output_type": "execute_result"
    }
   ],
   "source": [
    "x_train.mean()"
   ]
  },
  {
   "cell_type": "code",
   "execution_count": 84,
   "metadata": {},
   "outputs": [
    {
     "data": {
      "text/plain": [
       "JobTitle     1.000038\n",
       "AgencyID     1.000038\n",
       "Agency       1.000038\n",
       "HireDay      1.000038\n",
       "HireMonth    1.000038\n",
       "HireYear     1.000038\n",
       "dtype: float64"
      ]
     },
     "execution_count": 84,
     "metadata": {},
     "output_type": "execute_result"
    }
   ],
   "source": [
    "x_train.std()"
   ]
  },
  {
   "cell_type": "code",
   "execution_count": 85,
   "metadata": {},
   "outputs": [],
   "source": [
    "x_test[x_test.columns] = scaler.fit_transform(x_test[x_test.columns])"
   ]
  },
  {
   "cell_type": "code",
   "execution_count": 86,
   "metadata": {},
   "outputs": [
    {
     "data": {
      "text/html": [
       "<div>\n",
       "<style scoped>\n",
       "    .dataframe tbody tr th:only-of-type {\n",
       "        vertical-align: middle;\n",
       "    }\n",
       "\n",
       "    .dataframe tbody tr th {\n",
       "        vertical-align: top;\n",
       "    }\n",
       "\n",
       "    .dataframe thead th {\n",
       "        text-align: right;\n",
       "    }\n",
       "</style>\n",
       "<table border=\"1\" class=\"dataframe\">\n",
       "  <thead>\n",
       "    <tr style=\"text-align: right;\">\n",
       "      <th></th>\n",
       "      <th>JobTitle</th>\n",
       "      <th>AgencyID</th>\n",
       "      <th>Agency</th>\n",
       "      <th>HireDay</th>\n",
       "      <th>HireMonth</th>\n",
       "      <th>HireYear</th>\n",
       "    </tr>\n",
       "  </thead>\n",
       "  <tbody>\n",
       "    <tr>\n",
       "      <th>count</th>\n",
       "      <td>1.889500e+04</td>\n",
       "      <td>1.889500e+04</td>\n",
       "      <td>1.889500e+04</td>\n",
       "      <td>1.889500e+04</td>\n",
       "      <td>1.889500e+04</td>\n",
       "      <td>1.889500e+04</td>\n",
       "    </tr>\n",
       "    <tr>\n",
       "      <th>mean</th>\n",
       "      <td>-9.544275e-16</td>\n",
       "      <td>-6.439294e-16</td>\n",
       "      <td>-2.053619e-16</td>\n",
       "      <td>-1.646863e-16</td>\n",
       "      <td>-4.182477e-16</td>\n",
       "      <td>-8.016239e-15</td>\n",
       "    </tr>\n",
       "    <tr>\n",
       "      <th>std</th>\n",
       "      <td>1.000026e+00</td>\n",
       "      <td>1.000026e+00</td>\n",
       "      <td>1.000026e+00</td>\n",
       "      <td>1.000026e+00</td>\n",
       "      <td>1.000026e+00</td>\n",
       "      <td>1.000026e+00</td>\n",
       "    </tr>\n",
       "    <tr>\n",
       "      <th>min</th>\n",
       "      <td>-1.543006e+00</td>\n",
       "      <td>-1.686610e+00</td>\n",
       "      <td>-1.396185e+00</td>\n",
       "      <td>-1.760641e+00</td>\n",
       "      <td>-1.821076e+00</td>\n",
       "      <td>-5.011544e+00</td>\n",
       "    </tr>\n",
       "    <tr>\n",
       "      <th>25%</th>\n",
       "      <td>-1.160254e+00</td>\n",
       "      <td>-1.268414e+00</td>\n",
       "      <td>-1.344772e+00</td>\n",
       "      <td>-8.066748e-01</td>\n",
       "      <td>-4.645125e-01</td>\n",
       "      <td>-5.849229e-01</td>\n",
       "    </tr>\n",
       "    <tr>\n",
       "      <th>50%</th>\n",
       "      <td>-1.449061e-01</td>\n",
       "      <td>8.808593e-02</td>\n",
       "      <td>1.437328e-01</td>\n",
       "      <td>2.804596e-02</td>\n",
       "      <td>-1.253717e-01</td>\n",
       "      <td>2.811551e-01</td>\n",
       "    </tr>\n",
       "    <tr>\n",
       "      <th>75%</th>\n",
       "      <td>8.646407e-01</td>\n",
       "      <td>9.057255e-01</td>\n",
       "      <td>1.045906e+00</td>\n",
       "      <td>7.435209e-01</td>\n",
       "      <td>5.529099e-01</td>\n",
       "      <td>8.585405e-01</td>\n",
       "    </tr>\n",
       "    <tr>\n",
       "      <th>max</th>\n",
       "      <td>4.164395e+00</td>\n",
       "      <td>4.633493e+00</td>\n",
       "      <td>2.235956e+00</td>\n",
       "      <td>1.816733e+00</td>\n",
       "      <td>1.909473e+00</td>\n",
       "      <td>9.547714e-01</td>\n",
       "    </tr>\n",
       "  </tbody>\n",
       "</table>\n",
       "</div>"
      ],
      "text/plain": [
       "           JobTitle      AgencyID        Agency       HireDay     HireMonth  \\\n",
       "count  1.889500e+04  1.889500e+04  1.889500e+04  1.889500e+04  1.889500e+04   \n",
       "mean  -9.544275e-16 -6.439294e-16 -2.053619e-16 -1.646863e-16 -4.182477e-16   \n",
       "std    1.000026e+00  1.000026e+00  1.000026e+00  1.000026e+00  1.000026e+00   \n",
       "min   -1.543006e+00 -1.686610e+00 -1.396185e+00 -1.760641e+00 -1.821076e+00   \n",
       "25%   -1.160254e+00 -1.268414e+00 -1.344772e+00 -8.066748e-01 -4.645125e-01   \n",
       "50%   -1.449061e-01  8.808593e-02  1.437328e-01  2.804596e-02 -1.253717e-01   \n",
       "75%    8.646407e-01  9.057255e-01  1.045906e+00  7.435209e-01  5.529099e-01   \n",
       "max    4.164395e+00  4.633493e+00  2.235956e+00  1.816733e+00  1.909473e+00   \n",
       "\n",
       "           HireYear  \n",
       "count  1.889500e+04  \n",
       "mean  -8.016239e-15  \n",
       "std    1.000026e+00  \n",
       "min   -5.011544e+00  \n",
       "25%   -5.849229e-01  \n",
       "50%    2.811551e-01  \n",
       "75%    8.585405e-01  \n",
       "max    9.547714e-01  "
      ]
     },
     "execution_count": 86,
     "metadata": {},
     "output_type": "execute_result"
    }
   ],
   "source": [
    "x_test.describe()"
   ]
  },
  {
   "cell_type": "code",
   "execution_count": 87,
   "metadata": {},
   "outputs": [
    {
     "data": {
      "text/html": [
       "<div>\n",
       "<style scoped>\n",
       "    .dataframe tbody tr th:only-of-type {\n",
       "        vertical-align: middle;\n",
       "    }\n",
       "\n",
       "    .dataframe tbody tr th {\n",
       "        vertical-align: top;\n",
       "    }\n",
       "\n",
       "    .dataframe thead th {\n",
       "        text-align: right;\n",
       "    }\n",
       "</style>\n",
       "<table border=\"1\" class=\"dataframe\">\n",
       "  <thead>\n",
       "    <tr style=\"text-align: right;\">\n",
       "      <th></th>\n",
       "      <th>JobTitle</th>\n",
       "      <th>AgencyID</th>\n",
       "      <th>Agency</th>\n",
       "      <th>HireDay</th>\n",
       "      <th>HireMonth</th>\n",
       "      <th>HireYear</th>\n",
       "    </tr>\n",
       "  </thead>\n",
       "  <tbody>\n",
       "    <tr>\n",
       "      <th>0</th>\n",
       "      <td>-1.160254</td>\n",
       "      <td>-1.268414</td>\n",
       "      <td>-1.344772</td>\n",
       "      <td>-0.687429</td>\n",
       "      <td>-0.125372</td>\n",
       "      <td>0.858540</td>\n",
       "    </tr>\n",
       "    <tr>\n",
       "      <th>1</th>\n",
       "      <td>0.324469</td>\n",
       "      <td>0.319787</td>\n",
       "      <td>0.569062</td>\n",
       "      <td>0.982013</td>\n",
       "      <td>1.231191</td>\n",
       "      <td>-2.413310</td>\n",
       "    </tr>\n",
       "    <tr>\n",
       "      <th>2</th>\n",
       "      <td>1.241170</td>\n",
       "      <td>1.184888</td>\n",
       "      <td>1.206308</td>\n",
       "      <td>1.101258</td>\n",
       "      <td>0.892051</td>\n",
       "      <td>0.184924</td>\n",
       "    </tr>\n",
       "    <tr>\n",
       "      <th>3</th>\n",
       "      <td>0.755817</td>\n",
       "      <td>0.382892</td>\n",
       "      <td>0.020628</td>\n",
       "      <td>0.862767</td>\n",
       "      <td>0.213769</td>\n",
       "      <td>0.473617</td>\n",
       "    </tr>\n",
       "    <tr>\n",
       "      <th>4</th>\n",
       "      <td>0.204788</td>\n",
       "      <td>0.200541</td>\n",
       "      <td>1.045906</td>\n",
       "      <td>0.982013</td>\n",
       "      <td>0.213769</td>\n",
       "      <td>0.858540</td>\n",
       "    </tr>\n",
       "    <tr>\n",
       "      <th>...</th>\n",
       "      <td>...</td>\n",
       "      <td>...</td>\n",
       "      <td>...</td>\n",
       "      <td>...</td>\n",
       "      <td>...</td>\n",
       "      <td>...</td>\n",
       "    </tr>\n",
       "    <tr>\n",
       "      <th>18976</th>\n",
       "      <td>-1.160254</td>\n",
       "      <td>-1.268414</td>\n",
       "      <td>-1.344772</td>\n",
       "      <td>0.624275</td>\n",
       "      <td>-0.464512</td>\n",
       "      <td>0.954771</td>\n",
       "    </tr>\n",
       "    <tr>\n",
       "      <th>18977</th>\n",
       "      <td>-1.160254</td>\n",
       "      <td>-1.268414</td>\n",
       "      <td>-1.344772</td>\n",
       "      <td>0.624275</td>\n",
       "      <td>-0.464512</td>\n",
       "      <td>0.954771</td>\n",
       "    </tr>\n",
       "    <tr>\n",
       "      <th>18978</th>\n",
       "      <td>0.204788</td>\n",
       "      <td>0.200541</td>\n",
       "      <td>1.045906</td>\n",
       "      <td>0.147292</td>\n",
       "      <td>1.909473</td>\n",
       "      <td>0.858540</td>\n",
       "    </tr>\n",
       "    <tr>\n",
       "      <th>18979</th>\n",
       "      <td>0.864641</td>\n",
       "      <td>0.927826</td>\n",
       "      <td>1.045906</td>\n",
       "      <td>0.862767</td>\n",
       "      <td>-1.821076</td>\n",
       "      <td>0.858540</td>\n",
       "    </tr>\n",
       "    <tr>\n",
       "      <th>18980</th>\n",
       "      <td>0.567951</td>\n",
       "      <td>0.128457</td>\n",
       "      <td>0.143733</td>\n",
       "      <td>-0.091200</td>\n",
       "      <td>1.231191</td>\n",
       "      <td>-2.413310</td>\n",
       "    </tr>\n",
       "  </tbody>\n",
       "</table>\n",
       "<p>18895 rows × 6 columns</p>\n",
       "</div>"
      ],
      "text/plain": [
       "       JobTitle  AgencyID    Agency   HireDay  HireMonth  HireYear\n",
       "0     -1.160254 -1.268414 -1.344772 -0.687429  -0.125372  0.858540\n",
       "1      0.324469  0.319787  0.569062  0.982013   1.231191 -2.413310\n",
       "2      1.241170  1.184888  1.206308  1.101258   0.892051  0.184924\n",
       "3      0.755817  0.382892  0.020628  0.862767   0.213769  0.473617\n",
       "4      0.204788  0.200541  1.045906  0.982013   0.213769  0.858540\n",
       "...         ...       ...       ...       ...        ...       ...\n",
       "18976 -1.160254 -1.268414 -1.344772  0.624275  -0.464512  0.954771\n",
       "18977 -1.160254 -1.268414 -1.344772  0.624275  -0.464512  0.954771\n",
       "18978  0.204788  0.200541  1.045906  0.147292   1.909473  0.858540\n",
       "18979  0.864641  0.927826  1.045906  0.862767  -1.821076  0.858540\n",
       "18980  0.567951  0.128457  0.143733 -0.091200   1.231191 -2.413310\n",
       "\n",
       "[18895 rows x 6 columns]"
      ]
     },
     "execution_count": 87,
     "metadata": {},
     "output_type": "execute_result"
    }
   ],
   "source": [
    "x_test"
   ]
  },
  {
   "cell_type": "markdown",
   "metadata": {},
   "source": [
    "# building linear regression model"
   ]
  },
  {
   "cell_type": "code",
   "execution_count": 88,
   "metadata": {},
   "outputs": [],
   "source": [
    "#small example that how linear regression works\n",
    "example_df = pd.DataFrame({'performance':[1,2,3,4,5,6],'levels':[2,5,4,6,1,3],'target':[100,300,200,600,200,300]})"
   ]
  },
  {
   "cell_type": "code",
   "execution_count": 89,
   "metadata": {},
   "outputs": [
    {
     "data": {
      "text/html": [
       "<div>\n",
       "<style scoped>\n",
       "    .dataframe tbody tr th:only-of-type {\n",
       "        vertical-align: middle;\n",
       "    }\n",
       "\n",
       "    .dataframe tbody tr th {\n",
       "        vertical-align: top;\n",
       "    }\n",
       "\n",
       "    .dataframe thead th {\n",
       "        text-align: right;\n",
       "    }\n",
       "</style>\n",
       "<table border=\"1\" class=\"dataframe\">\n",
       "  <thead>\n",
       "    <tr style=\"text-align: right;\">\n",
       "      <th></th>\n",
       "      <th>performance</th>\n",
       "      <th>levels</th>\n",
       "      <th>target</th>\n",
       "    </tr>\n",
       "  </thead>\n",
       "  <tbody>\n",
       "    <tr>\n",
       "      <th>0</th>\n",
       "      <td>1</td>\n",
       "      <td>2</td>\n",
       "      <td>100</td>\n",
       "    </tr>\n",
       "    <tr>\n",
       "      <th>1</th>\n",
       "      <td>2</td>\n",
       "      <td>5</td>\n",
       "      <td>300</td>\n",
       "    </tr>\n",
       "    <tr>\n",
       "      <th>2</th>\n",
       "      <td>3</td>\n",
       "      <td>4</td>\n",
       "      <td>200</td>\n",
       "    </tr>\n",
       "    <tr>\n",
       "      <th>3</th>\n",
       "      <td>4</td>\n",
       "      <td>6</td>\n",
       "      <td>600</td>\n",
       "    </tr>\n",
       "    <tr>\n",
       "      <th>4</th>\n",
       "      <td>5</td>\n",
       "      <td>1</td>\n",
       "      <td>200</td>\n",
       "    </tr>\n",
       "    <tr>\n",
       "      <th>5</th>\n",
       "      <td>6</td>\n",
       "      <td>3</td>\n",
       "      <td>300</td>\n",
       "    </tr>\n",
       "  </tbody>\n",
       "</table>\n",
       "</div>"
      ],
      "text/plain": [
       "   performance  levels  target\n",
       "0            1       2     100\n",
       "1            2       5     300\n",
       "2            3       4     200\n",
       "3            4       6     600\n",
       "4            5       1     200\n",
       "5            6       3     300"
      ]
     },
     "execution_count": 89,
     "metadata": {},
     "output_type": "execute_result"
    }
   ],
   "source": [
    "example_df"
   ]
  },
  {
   "cell_type": "code",
   "execution_count": 90,
   "metadata": {},
   "outputs": [],
   "source": [
    "example_lr = LinearRegression()\n",
    "example_model = example_lr.fit(example_df[['performance','levels']],example_df['target'])"
   ]
  },
  {
   "cell_type": "code",
   "execution_count": 91,
   "metadata": {},
   "outputs": [
    {
     "data": {
      "text/plain": [
       "0.8106741573033707"
      ]
     },
     "execution_count": 91,
     "metadata": {},
     "output_type": "execute_result"
    }
   ],
   "source": [
    "example_model.score(example_df[['performance','levels']],example_df['target'])"
   ]
  },
  {
   "cell_type": "code",
   "execution_count": 92,
   "metadata": {},
   "outputs": [
    {
     "data": {
      "text/plain": [
       "array([350.83333333])"
      ]
     },
     "execution_count": 92,
     "metadata": {},
     "output_type": "execute_result"
    }
   ],
   "source": [
    "example_model.predict([[6,3]])"
   ]
  },
  {
   "cell_type": "code",
   "execution_count": 93,
   "metadata": {},
   "outputs": [
    {
     "name": "stdout",
     "output_type": "stream",
     "text": [
      "[42.5 77.5]\n"
     ]
    }
   ],
   "source": [
    "print(example_lr.coef_)"
   ]
  },
  {
   "cell_type": "code",
   "execution_count": 94,
   "metadata": {},
   "outputs": [
    {
     "name": "stdout",
     "output_type": "stream",
     "text": [
      "-136.66666666666657\n"
     ]
    }
   ],
   "source": [
    "print(example_lr.intercept_)"
   ]
  },
  {
   "cell_type": "markdown",
   "metadata": {},
   "source": [
    "# applying linear regression model on actual data"
   ]
  },
  {
   "cell_type": "code",
   "execution_count": 95,
   "metadata": {},
   "outputs": [],
   "source": [
    "lr = LinearRegression()"
   ]
  },
  {
   "cell_type": "code",
   "execution_count": 96,
   "metadata": {},
   "outputs": [
    {
     "data": {
      "text/plain": [
       "18885    29245.0\n",
       "9334     73600.0\n",
       "12385    20800.0\n",
       "6334     10038.0\n",
       "2226     11310.0\n",
       "          ...   \n",
       "9450     30014.0\n",
       "7368     11310.0\n",
       "17812    11310.0\n",
       "7370     34211.0\n",
       "17757    81120.0\n",
       "Name: AnnualSalary, Length: 13226, dtype: float64"
      ]
     },
     "execution_count": 96,
     "metadata": {},
     "output_type": "execute_result"
    }
   ],
   "source": [
    "y_train"
   ]
  },
  {
   "cell_type": "code",
   "execution_count": 97,
   "metadata": {},
   "outputs": [],
   "source": [
    "salary_reg = lr.fit(x_train,y_train)"
   ]
  },
  {
   "cell_type": "code",
   "execution_count": 98,
   "metadata": {},
   "outputs": [
    {
     "data": {
      "text/plain": [
       "0.9645650195969258"
      ]
     },
     "execution_count": 98,
     "metadata": {},
     "output_type": "execute_result"
    }
   ],
   "source": [
    "salary_reg.score(x_train,y_train)"
   ]
  },
  {
   "cell_type": "code",
   "execution_count": 99,
   "metadata": {},
   "outputs": [
    {
     "data": {
      "text/plain": [
       "0.9644325452984334"
      ]
     },
     "execution_count": 99,
     "metadata": {},
     "output_type": "execute_result"
    }
   ],
   "source": [
    "salary_reg.score(x_test,y_test)"
   ]
  },
  {
   "cell_type": "raw",
   "metadata": {},
   "source": [
    "#Even though our model performs well on train data, that doesn't mean the model is good. The model should equally perform well on the test data .i.e the data that model has not encountered yet. only then a model is considered a good model. if the model is just performing good on training data and not on test data then we can say overfitting is there. and when model doest perform well on either train data and test data then underfitting is there."
   ]
  },
  {
   "cell_type": "code",
   "execution_count": 100,
   "metadata": {},
   "outputs": [
    {
     "name": "stdout",
     "output_type": "stream",
     "text": [
      "[22216.70188463  3040.62809567 -1911.61726969   -42.88990943\n",
      "  -141.06309572 -2134.90621668]\n"
     ]
    }
   ],
   "source": [
    " print(lr.coef_)"
   ]
  },
  {
   "cell_type": "code",
   "execution_count": 101,
   "metadata": {},
   "outputs": [
    {
     "name": "stdout",
     "output_type": "stream",
     "text": [
      "39473.00894072282\n"
     ]
    }
   ],
   "source": [
    "print(salary_reg.intercept_)"
   ]
  },
  {
   "cell_type": "code",
   "execution_count": 102,
   "metadata": {},
   "outputs": [],
   "source": [
    "y_predict = salary_reg.predict(x_test)"
   ]
  },
  {
   "cell_type": "code",
   "execution_count": 103,
   "metadata": {},
   "outputs": [
    {
     "data": {
      "text/plain": [
       "array([10624.17674584, 51502.56337552, 67776.64614772, ...,\n",
       "       40524.54898328, 57891.2554326 , 57189.25709091])"
      ]
     },
     "execution_count": 103,
     "metadata": {},
     "output_type": "execute_result"
    }
   ],
   "source": [
    "y_predict"
   ]
  },
  {
   "cell_type": "code",
   "execution_count": 104,
   "metadata": {},
   "outputs": [
    {
     "data": {
      "text/plain": [
       "0        11310.0\n",
       "1        53428.0\n",
       "2        68300.0\n",
       "3        62000.0\n",
       "4        43999.0\n",
       "          ...   \n",
       "18976    11310.0\n",
       "18977    11310.0\n",
       "18978    43999.0\n",
       "18979    44104.0\n",
       "18980    53568.0\n",
       "Name: AnnualSalary, Length: 18895, dtype: float64"
      ]
     },
     "execution_count": 104,
     "metadata": {},
     "output_type": "execute_result"
    }
   ],
   "source": [
    "y_test"
   ]
  },
  {
   "cell_type": "raw",
   "metadata": {},
   "source": [
    "#based on coeficients\n",
    "[22216.70188463  3040.62809567 -1911.61726969   -42.88990943\n",
    "  -141.06309572 -2134.90621668]\n",
    "agencyid,jobtitle,hiredate have higher coeficient values\n",
    "other are having negatuve coeficient values"
   ]
  },
  {
   "cell_type": "code",
   "execution_count": 105,
   "metadata": {},
   "outputs": [
    {
     "data": {
      "text/html": [
       "<div>\n",
       "<style scoped>\n",
       "    .dataframe tbody tr th:only-of-type {\n",
       "        vertical-align: middle;\n",
       "    }\n",
       "\n",
       "    .dataframe tbody tr th {\n",
       "        vertical-align: top;\n",
       "    }\n",
       "\n",
       "    .dataframe thead th {\n",
       "        text-align: right;\n",
       "    }\n",
       "</style>\n",
       "<table border=\"1\" class=\"dataframe\">\n",
       "  <thead>\n",
       "    <tr style=\"text-align: right;\">\n",
       "      <th></th>\n",
       "      <th>JobTitle</th>\n",
       "      <th>AgencyID</th>\n",
       "      <th>Agency</th>\n",
       "      <th>HireDay</th>\n",
       "      <th>HireMonth</th>\n",
       "      <th>HireYear</th>\n",
       "    </tr>\n",
       "  </thead>\n",
       "  <tbody>\n",
       "    <tr>\n",
       "      <th>0</th>\n",
       "      <td>-1.160254</td>\n",
       "      <td>-1.268414</td>\n",
       "      <td>-1.344772</td>\n",
       "      <td>-0.687429</td>\n",
       "      <td>-0.125372</td>\n",
       "      <td>0.858540</td>\n",
       "    </tr>\n",
       "    <tr>\n",
       "      <th>1</th>\n",
       "      <td>0.324469</td>\n",
       "      <td>0.319787</td>\n",
       "      <td>0.569062</td>\n",
       "      <td>0.982013</td>\n",
       "      <td>1.231191</td>\n",
       "      <td>-2.413310</td>\n",
       "    </tr>\n",
       "    <tr>\n",
       "      <th>2</th>\n",
       "      <td>1.241170</td>\n",
       "      <td>1.184888</td>\n",
       "      <td>1.206308</td>\n",
       "      <td>1.101258</td>\n",
       "      <td>0.892051</td>\n",
       "      <td>0.184924</td>\n",
       "    </tr>\n",
       "    <tr>\n",
       "      <th>3</th>\n",
       "      <td>0.755817</td>\n",
       "      <td>0.382892</td>\n",
       "      <td>0.020628</td>\n",
       "      <td>0.862767</td>\n",
       "      <td>0.213769</td>\n",
       "      <td>0.473617</td>\n",
       "    </tr>\n",
       "    <tr>\n",
       "      <th>4</th>\n",
       "      <td>0.204788</td>\n",
       "      <td>0.200541</td>\n",
       "      <td>1.045906</td>\n",
       "      <td>0.982013</td>\n",
       "      <td>0.213769</td>\n",
       "      <td>0.858540</td>\n",
       "    </tr>\n",
       "    <tr>\n",
       "      <th>...</th>\n",
       "      <td>...</td>\n",
       "      <td>...</td>\n",
       "      <td>...</td>\n",
       "      <td>...</td>\n",
       "      <td>...</td>\n",
       "      <td>...</td>\n",
       "    </tr>\n",
       "    <tr>\n",
       "      <th>18976</th>\n",
       "      <td>-1.160254</td>\n",
       "      <td>-1.268414</td>\n",
       "      <td>-1.344772</td>\n",
       "      <td>0.624275</td>\n",
       "      <td>-0.464512</td>\n",
       "      <td>0.954771</td>\n",
       "    </tr>\n",
       "    <tr>\n",
       "      <th>18977</th>\n",
       "      <td>-1.160254</td>\n",
       "      <td>-1.268414</td>\n",
       "      <td>-1.344772</td>\n",
       "      <td>0.624275</td>\n",
       "      <td>-0.464512</td>\n",
       "      <td>0.954771</td>\n",
       "    </tr>\n",
       "    <tr>\n",
       "      <th>18978</th>\n",
       "      <td>0.204788</td>\n",
       "      <td>0.200541</td>\n",
       "      <td>1.045906</td>\n",
       "      <td>0.147292</td>\n",
       "      <td>1.909473</td>\n",
       "      <td>0.858540</td>\n",
       "    </tr>\n",
       "    <tr>\n",
       "      <th>18979</th>\n",
       "      <td>0.864641</td>\n",
       "      <td>0.927826</td>\n",
       "      <td>1.045906</td>\n",
       "      <td>0.862767</td>\n",
       "      <td>-1.821076</td>\n",
       "      <td>0.858540</td>\n",
       "    </tr>\n",
       "    <tr>\n",
       "      <th>18980</th>\n",
       "      <td>0.567951</td>\n",
       "      <td>0.128457</td>\n",
       "      <td>0.143733</td>\n",
       "      <td>-0.091200</td>\n",
       "      <td>1.231191</td>\n",
       "      <td>-2.413310</td>\n",
       "    </tr>\n",
       "  </tbody>\n",
       "</table>\n",
       "<p>18895 rows × 6 columns</p>\n",
       "</div>"
      ],
      "text/plain": [
       "       JobTitle  AgencyID    Agency   HireDay  HireMonth  HireYear\n",
       "0     -1.160254 -1.268414 -1.344772 -0.687429  -0.125372  0.858540\n",
       "1      0.324469  0.319787  0.569062  0.982013   1.231191 -2.413310\n",
       "2      1.241170  1.184888  1.206308  1.101258   0.892051  0.184924\n",
       "3      0.755817  0.382892  0.020628  0.862767   0.213769  0.473617\n",
       "4      0.204788  0.200541  1.045906  0.982013   0.213769  0.858540\n",
       "...         ...       ...       ...       ...        ...       ...\n",
       "18976 -1.160254 -1.268414 -1.344772  0.624275  -0.464512  0.954771\n",
       "18977 -1.160254 -1.268414 -1.344772  0.624275  -0.464512  0.954771\n",
       "18978  0.204788  0.200541  1.045906  0.147292   1.909473  0.858540\n",
       "18979  0.864641  0.927826  1.045906  0.862767  -1.821076  0.858540\n",
       "18980  0.567951  0.128457  0.143733 -0.091200   1.231191 -2.413310\n",
       "\n",
       "[18895 rows x 6 columns]"
      ]
     },
     "execution_count": 105,
     "metadata": {},
     "output_type": "execute_result"
    }
   ],
   "source": [
    "salary_master"
   ]
  },
  {
   "cell_type": "code",
   "execution_count": 112,
   "metadata": {},
   "outputs": [
    {
     "name": "stdout",
     "output_type": "stream",
     "text": [
      "mean_sqrd_error is== 21990103.027458932\n",
      "root_mean_squared error of is== 4689.360620325433\n",
      "mean_absolute_error is== 2610.5816571445794\n",
      "score = 0.9644325452984334\n"
     ]
    }
   ],
   "source": [
    "#print('r2 socre is ',salary_reg.score)\n",
    "from sklearn.metrics import r2_score\n",
    "from sklearn.metrics import mean_squared_error,mean_absolute_error\n",
    "\n",
    "print('mean_sqrd_error is==',mean_squared_error(y_test,y_predict))\n",
    "print('root_mean_squared error of is==',np.sqrt(mean_squared_error(y_test,y_predict)))\n",
    "print('mean_absolute_error is==',mean_absolute_error(y_test,y_predict))\n",
    "print(\"score =\",salary_reg.score(x_test,y_test))"
   ]
  },
  {
   "cell_type": "code",
   "execution_count": null,
   "metadata": {},
   "outputs": [],
   "source": []
  }
 ],
 "metadata": {
  "kernelspec": {
   "display_name": "Python 3",
   "language": "python",
   "name": "python3"
  },
  "language_info": {
   "codemirror_mode": {
    "name": "ipython",
    "version": 3
   },
   "file_extension": ".py",
   "mimetype": "text/x-python",
   "name": "python",
   "nbconvert_exporter": "python",
   "pygments_lexer": "ipython3",
   "version": "3.8.5"
  }
 },
 "nbformat": 4,
 "nbformat_minor": 4
}
